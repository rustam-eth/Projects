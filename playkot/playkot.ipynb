{
 "cells": [
  {
   "cell_type": "markdown",
   "metadata": {},
   "source": [
    "### 1. Общая информация о данных"
   ]
  },
  {
   "cell_type": "code",
   "execution_count": 92,
   "metadata": {},
   "outputs": [],
   "source": [
    "import pandas as pd\n",
    "import numpy as np\n",
    "import matplotlib.pyplot as plt\n",
    "import seaborn as sns"
   ]
  },
  {
   "cell_type": "code",
   "execution_count": 2,
   "metadata": {},
   "outputs": [],
   "source": [
    "data = pd.read_excel(\"C:/Users/rusta/DS/Projects/PLAYKOT_GDA.xlsx\")"
   ]
  },
  {
   "cell_type": "code",
   "execution_count": 3,
   "metadata": {},
   "outputs": [
    {
     "data": {
      "text/html": [
       "<div>\n",
       "<style scoped>\n",
       "    .dataframe tbody tr th:only-of-type {\n",
       "        vertical-align: middle;\n",
       "    }\n",
       "\n",
       "    .dataframe tbody tr th {\n",
       "        vertical-align: top;\n",
       "    }\n",
       "\n",
       "    .dataframe thead th {\n",
       "        text-align: right;\n",
       "    }\n",
       "</style>\n",
       "<table border=\"1\" class=\"dataframe\">\n",
       "  <thead>\n",
       "    <tr style=\"text-align: right;\">\n",
       "      <th></th>\n",
       "      <th>id пользователя</th>\n",
       "      <th>Дата первой сессии</th>\n",
       "      <th>Дата последней сессии</th>\n",
       "      <th>Дата первого платежа</th>\n",
       "      <th>Дата последнего платежа</th>\n",
       "      <th>Платежи на 7 день (руб.)</th>\n",
       "      <th>Платежи на 14 день (руб.)</th>\n",
       "      <th>Платежи на 30 день (руб.)</th>\n",
       "      <th>Платежи на 60 день (руб.)</th>\n",
       "      <th>Платежи на 90 день (руб.)</th>\n",
       "      <th>Всего платежей (руб.)</th>\n",
       "      <th>Входы в игру (7 дней)</th>\n",
       "      <th>Входы в игру (30 дней)</th>\n",
       "      <th>Входы в игру (всего)</th>\n",
       "      <th>Пол</th>\n",
       "      <th>Возраст</th>\n",
       "      <th>Страна</th>\n",
       "      <th>Город</th>\n",
       "    </tr>\n",
       "  </thead>\n",
       "  <tbody>\n",
       "    <tr>\n",
       "      <th>0</th>\n",
       "      <td>71802716</td>\n",
       "      <td>2013-05-06</td>\n",
       "      <td>2013-07-03</td>\n",
       "      <td>2013-05-06</td>\n",
       "      <td>2013-05-11</td>\n",
       "      <td>640</td>\n",
       "      <td>640</td>\n",
       "      <td>640</td>\n",
       "      <td>640</td>\n",
       "      <td>640</td>\n",
       "      <td>640</td>\n",
       "      <td>7</td>\n",
       "      <td>19</td>\n",
       "      <td>23</td>\n",
       "      <td>male</td>\n",
       "      <td>NaN</td>\n",
       "      <td>RUSSIAN_FEDERATION</td>\n",
       "      <td>Минеральные Воды</td>\n",
       "    </tr>\n",
       "    <tr>\n",
       "      <th>1</th>\n",
       "      <td>74692885</td>\n",
       "      <td>2013-04-30</td>\n",
       "      <td>2013-07-19</td>\n",
       "      <td>2013-05-27</td>\n",
       "      <td>2013-06-17</td>\n",
       "      <td>0</td>\n",
       "      <td>0</td>\n",
       "      <td>5580</td>\n",
       "      <td>5910</td>\n",
       "      <td>5910</td>\n",
       "      <td>5910</td>\n",
       "      <td>2</td>\n",
       "      <td>8</td>\n",
       "      <td>21</td>\n",
       "      <td>male</td>\n",
       "      <td>NaN</td>\n",
       "      <td>RUSSIAN_FEDERATION</td>\n",
       "      <td>зеленоград</td>\n",
       "    </tr>\n",
       "    <tr>\n",
       "      <th>2</th>\n",
       "      <td>74933313</td>\n",
       "      <td>2013-04-17</td>\n",
       "      <td>2013-07-21</td>\n",
       "      <td>2013-04-18</td>\n",
       "      <td>2013-05-24</td>\n",
       "      <td>200</td>\n",
       "      <td>220</td>\n",
       "      <td>320</td>\n",
       "      <td>720</td>\n",
       "      <td>720</td>\n",
       "      <td>720</td>\n",
       "      <td>7</td>\n",
       "      <td>30</td>\n",
       "      <td>93</td>\n",
       "      <td>male</td>\n",
       "      <td>32.0</td>\n",
       "      <td>RUSSIAN_FEDERATION</td>\n",
       "      <td>Завитинск</td>\n",
       "    </tr>\n",
       "    <tr>\n",
       "      <th>3</th>\n",
       "      <td>77479563</td>\n",
       "      <td>2013-05-08</td>\n",
       "      <td>2013-07-22</td>\n",
       "      <td>2013-06-04</td>\n",
       "      <td>2013-07-15</td>\n",
       "      <td>0</td>\n",
       "      <td>0</td>\n",
       "      <td>240</td>\n",
       "      <td>1000</td>\n",
       "      <td>1310</td>\n",
       "      <td>1310</td>\n",
       "      <td>1</td>\n",
       "      <td>6</td>\n",
       "      <td>52</td>\n",
       "      <td>male</td>\n",
       "      <td>40.0</td>\n",
       "      <td>RUSSIAN_FEDERATION</td>\n",
       "      <td>москва</td>\n",
       "    </tr>\n",
       "    <tr>\n",
       "      <th>4</th>\n",
       "      <td>79067276</td>\n",
       "      <td>2013-05-22</td>\n",
       "      <td>2013-07-22</td>\n",
       "      <td>2013-05-24</td>\n",
       "      <td>2013-07-04</td>\n",
       "      <td>60</td>\n",
       "      <td>60</td>\n",
       "      <td>60</td>\n",
       "      <td>260</td>\n",
       "      <td>260</td>\n",
       "      <td>260</td>\n",
       "      <td>7</td>\n",
       "      <td>28</td>\n",
       "      <td>57</td>\n",
       "      <td>male</td>\n",
       "      <td>31.0</td>\n",
       "      <td>RUSSIAN_FEDERATION</td>\n",
       "      <td>Владивосток</td>\n",
       "    </tr>\n",
       "  </tbody>\n",
       "</table>\n",
       "</div>"
      ],
      "text/plain": [
       "   id пользователя Дата первой сессии Дата последней сессии  \\\n",
       "0         71802716         2013-05-06            2013-07-03   \n",
       "1         74692885         2013-04-30            2013-07-19   \n",
       "2         74933313         2013-04-17            2013-07-21   \n",
       "3         77479563         2013-05-08            2013-07-22   \n",
       "4         79067276         2013-05-22            2013-07-22   \n",
       "\n",
       "  Дата первого платежа Дата последнего платежа  Платежи на 7 день (руб.)  \\\n",
       "0           2013-05-06              2013-05-11                       640   \n",
       "1           2013-05-27              2013-06-17                         0   \n",
       "2           2013-04-18              2013-05-24                       200   \n",
       "3           2013-06-04              2013-07-15                         0   \n",
       "4           2013-05-24              2013-07-04                        60   \n",
       "\n",
       "   Платежи на 14 день (руб.)  Платежи на 30 день (руб.)  \\\n",
       "0                        640                        640   \n",
       "1                          0                       5580   \n",
       "2                        220                        320   \n",
       "3                          0                        240   \n",
       "4                         60                         60   \n",
       "\n",
       "   Платежи на 60 день (руб.)  Платежи на 90 день (руб.)  \\\n",
       "0                        640                        640   \n",
       "1                       5910                       5910   \n",
       "2                        720                        720   \n",
       "3                       1000                       1310   \n",
       "4                        260                        260   \n",
       "\n",
       "   Всего платежей (руб.)  Входы в игру (7 дней)  Входы в игру (30 дней)  \\\n",
       "0                    640                      7                      19   \n",
       "1                   5910                      2                       8   \n",
       "2                    720                      7                      30   \n",
       "3                   1310                      1                       6   \n",
       "4                    260                      7                      28   \n",
       "\n",
       "   Входы в игру (всего)   Пол  Возраст              Страна             Город  \n",
       "0                    23  male      NaN  RUSSIAN_FEDERATION  Минеральные Воды  \n",
       "1                    21  male      NaN  RUSSIAN_FEDERATION        зеленоград  \n",
       "2                    93  male     32.0  RUSSIAN_FEDERATION         Завитинск  \n",
       "3                    52  male     40.0  RUSSIAN_FEDERATION            москва  \n",
       "4                    57  male     31.0  RUSSIAN_FEDERATION       Владивосток  "
      ]
     },
     "execution_count": 3,
     "metadata": {},
     "output_type": "execute_result"
    }
   ],
   "source": [
    "data.head()"
   ]
  },
  {
   "cell_type": "code",
   "execution_count": 4,
   "metadata": {},
   "outputs": [
    {
     "name": "stdout",
     "output_type": "stream",
     "text": [
      "<class 'pandas.core.frame.DataFrame'>\n",
      "RangeIndex: 33863 entries, 0 to 33862\n",
      "Data columns (total 18 columns):\n",
      " #   Column                     Non-Null Count  Dtype         \n",
      "---  ------                     --------------  -----         \n",
      " 0   id пользователя            33863 non-null  int64         \n",
      " 1   Дата первой сессии         33863 non-null  datetime64[ns]\n",
      " 2   Дата последней сессии      33861 non-null  datetime64[ns]\n",
      " 3   Дата первого платежа       4049 non-null   datetime64[ns]\n",
      " 4   Дата последнего платежа    4049 non-null   datetime64[ns]\n",
      " 5   Платежи на 7 день (руб.)   33863 non-null  int64         \n",
      " 6   Платежи на 14 день (руб.)  33863 non-null  int64         \n",
      " 7   Платежи на 30 день (руб.)  33863 non-null  int64         \n",
      " 8   Платежи на 60 день (руб.)  33863 non-null  int64         \n",
      " 9   Платежи на 90 день (руб.)  33863 non-null  int64         \n",
      " 10  Всего платежей (руб.)      33863 non-null  int64         \n",
      " 11  Входы в игру (7 дней)      33863 non-null  int64         \n",
      " 12  Входы в игру (30 дней)     33863 non-null  int64         \n",
      " 13  Входы в игру (всего)       33863 non-null  int64         \n",
      " 14  Пол                        33565 non-null  object        \n",
      " 15  Возраст                    23948 non-null  float64       \n",
      " 16  Страна                     33565 non-null  object        \n",
      " 17  Город                      33560 non-null  object        \n",
      "dtypes: datetime64[ns](4), float64(1), int64(10), object(3)\n",
      "memory usage: 4.7+ MB\n"
     ]
    }
   ],
   "source": [
    "data.info()"
   ]
  },
  {
   "cell_type": "code",
   "execution_count": 5,
   "metadata": {},
   "outputs": [
    {
     "data": {
      "text/plain": [
       "id пользователя                  0\n",
       "Дата первой сессии               0\n",
       "Дата последней сессии            2\n",
       "Дата первого платежа         29814\n",
       "Дата последнего платежа      29814\n",
       "Платежи на 7 день (руб.)         0\n",
       "Платежи на 14 день (руб.)        0\n",
       "Платежи на 30 день (руб.)        0\n",
       "Платежи на 60 день (руб.)        0\n",
       "Платежи на 90 день (руб.)        0\n",
       "Всего платежей (руб.)            0\n",
       "Входы в игру (7 дней)            0\n",
       "Входы в игру (30 дней)           0\n",
       "Входы в игру (всего)             0\n",
       "Пол                            298\n",
       "Возраст                       9915\n",
       "Страна                         298\n",
       "Город                          303\n",
       "dtype: int64"
      ]
     },
     "execution_count": 5,
     "metadata": {},
     "output_type": "execute_result"
    }
   ],
   "source": [
    "data.isna().sum()"
   ]
  },
  {
   "cell_type": "code",
   "execution_count": 6,
   "metadata": {},
   "outputs": [
    {
     "data": {
      "text/plain": [
       "0"
      ]
     },
     "execution_count": 6,
     "metadata": {},
     "output_type": "execute_result"
    }
   ],
   "source": [
    "#проверка на явные дупликаты\n",
    "data.duplicated().sum()"
   ]
  },
  {
   "cell_type": "code",
   "execution_count": 7,
   "metadata": {},
   "outputs": [
    {
     "data": {
      "text/html": [
       "<div>\n",
       "<style scoped>\n",
       "    .dataframe tbody tr th:only-of-type {\n",
       "        vertical-align: middle;\n",
       "    }\n",
       "\n",
       "    .dataframe tbody tr th {\n",
       "        vertical-align: top;\n",
       "    }\n",
       "\n",
       "    .dataframe thead th {\n",
       "        text-align: right;\n",
       "    }\n",
       "</style>\n",
       "<table border=\"1\" class=\"dataframe\">\n",
       "  <thead>\n",
       "    <tr style=\"text-align: right;\">\n",
       "      <th></th>\n",
       "      <th>id пользователя</th>\n",
       "      <th>Дата первой сессии</th>\n",
       "      <th>Дата последней сессии</th>\n",
       "      <th>Дата первого платежа</th>\n",
       "      <th>Дата последнего платежа</th>\n",
       "      <th>Платежи на 7 день (руб.)</th>\n",
       "      <th>Платежи на 14 день (руб.)</th>\n",
       "      <th>Платежи на 30 день (руб.)</th>\n",
       "      <th>Платежи на 60 день (руб.)</th>\n",
       "      <th>Платежи на 90 день (руб.)</th>\n",
       "      <th>Всего платежей (руб.)</th>\n",
       "      <th>Входы в игру (7 дней)</th>\n",
       "      <th>Входы в игру (30 дней)</th>\n",
       "      <th>Входы в игру (всего)</th>\n",
       "      <th>Пол</th>\n",
       "      <th>Возраст</th>\n",
       "      <th>Страна</th>\n",
       "      <th>Город</th>\n",
       "    </tr>\n",
       "  </thead>\n",
       "  <tbody>\n",
       "    <tr>\n",
       "      <th>306</th>\n",
       "      <td>825699357</td>\n",
       "      <td>2013-04-23</td>\n",
       "      <td>2013-07-15</td>\n",
       "      <td>2013-04-27</td>\n",
       "      <td>2013-07-15</td>\n",
       "      <td>90</td>\n",
       "      <td>90</td>\n",
       "      <td>90</td>\n",
       "      <td>90</td>\n",
       "      <td>180</td>\n",
       "      <td>180</td>\n",
       "      <td>5</td>\n",
       "      <td>12</td>\n",
       "      <td>22</td>\n",
       "      <td>NaN</td>\n",
       "      <td>NaN</td>\n",
       "      <td>NaN</td>\n",
       "      <td>NaN</td>\n",
       "    </tr>\n",
       "    <tr>\n",
       "      <th>1214</th>\n",
       "      <td>123517144582</td>\n",
       "      <td>2013-04-11</td>\n",
       "      <td>2013-06-25</td>\n",
       "      <td>2013-04-14</td>\n",
       "      <td>2013-04-14</td>\n",
       "      <td>90</td>\n",
       "      <td>90</td>\n",
       "      <td>90</td>\n",
       "      <td>90</td>\n",
       "      <td>90</td>\n",
       "      <td>90</td>\n",
       "      <td>4</td>\n",
       "      <td>15</td>\n",
       "      <td>51</td>\n",
       "      <td>NaN</td>\n",
       "      <td>NaN</td>\n",
       "      <td>NaN</td>\n",
       "      <td>NaN</td>\n",
       "    </tr>\n",
       "    <tr>\n",
       "      <th>1217</th>\n",
       "      <td>123713573312</td>\n",
       "      <td>2013-04-29</td>\n",
       "      <td>2013-05-08</td>\n",
       "      <td>2013-04-30</td>\n",
       "      <td>2013-05-01</td>\n",
       "      <td>260</td>\n",
       "      <td>260</td>\n",
       "      <td>260</td>\n",
       "      <td>260</td>\n",
       "      <td>260</td>\n",
       "      <td>260</td>\n",
       "      <td>4</td>\n",
       "      <td>6</td>\n",
       "      <td>6</td>\n",
       "      <td>NaN</td>\n",
       "      <td>NaN</td>\n",
       "      <td>NaN</td>\n",
       "      <td>NaN</td>\n",
       "    </tr>\n",
       "    <tr>\n",
       "      <th>1222</th>\n",
       "      <td>124031777977</td>\n",
       "      <td>2013-04-12</td>\n",
       "      <td>2013-04-13</td>\n",
       "      <td>2013-04-13</td>\n",
       "      <td>2013-04-13</td>\n",
       "      <td>20</td>\n",
       "      <td>20</td>\n",
       "      <td>20</td>\n",
       "      <td>20</td>\n",
       "      <td>20</td>\n",
       "      <td>20</td>\n",
       "      <td>2</td>\n",
       "      <td>2</td>\n",
       "      <td>2</td>\n",
       "      <td>NaN</td>\n",
       "      <td>NaN</td>\n",
       "      <td>NaN</td>\n",
       "      <td>NaN</td>\n",
       "    </tr>\n",
       "    <tr>\n",
       "      <th>1344</th>\n",
       "      <td>130391777308</td>\n",
       "      <td>2013-04-12</td>\n",
       "      <td>2013-04-19</td>\n",
       "      <td>2013-04-15</td>\n",
       "      <td>2013-04-15</td>\n",
       "      <td>40</td>\n",
       "      <td>40</td>\n",
       "      <td>40</td>\n",
       "      <td>40</td>\n",
       "      <td>40</td>\n",
       "      <td>40</td>\n",
       "      <td>6</td>\n",
       "      <td>7</td>\n",
       "      <td>7</td>\n",
       "      <td>NaN</td>\n",
       "      <td>NaN</td>\n",
       "      <td>NaN</td>\n",
       "      <td>NaN</td>\n",
       "    </tr>\n",
       "    <tr>\n",
       "      <th>...</th>\n",
       "      <td>...</td>\n",
       "      <td>...</td>\n",
       "      <td>...</td>\n",
       "      <td>...</td>\n",
       "      <td>...</td>\n",
       "      <td>...</td>\n",
       "      <td>...</td>\n",
       "      <td>...</td>\n",
       "      <td>...</td>\n",
       "      <td>...</td>\n",
       "      <td>...</td>\n",
       "      <td>...</td>\n",
       "      <td>...</td>\n",
       "      <td>...</td>\n",
       "      <td>...</td>\n",
       "      <td>...</td>\n",
       "      <td>...</td>\n",
       "      <td>...</td>\n",
       "    </tr>\n",
       "    <tr>\n",
       "      <th>33695</th>\n",
       "      <td>338199883154</td>\n",
       "      <td>2013-06-06</td>\n",
       "      <td>2013-06-06</td>\n",
       "      <td>NaT</td>\n",
       "      <td>NaT</td>\n",
       "      <td>0</td>\n",
       "      <td>0</td>\n",
       "      <td>0</td>\n",
       "      <td>0</td>\n",
       "      <td>0</td>\n",
       "      <td>0</td>\n",
       "      <td>1</td>\n",
       "      <td>1</td>\n",
       "      <td>1</td>\n",
       "      <td>NaN</td>\n",
       "      <td>NaN</td>\n",
       "      <td>NaN</td>\n",
       "      <td>NaN</td>\n",
       "    </tr>\n",
       "    <tr>\n",
       "      <th>33772</th>\n",
       "      <td>338237785547</td>\n",
       "      <td>2013-04-12</td>\n",
       "      <td>2013-04-12</td>\n",
       "      <td>NaT</td>\n",
       "      <td>NaT</td>\n",
       "      <td>0</td>\n",
       "      <td>0</td>\n",
       "      <td>0</td>\n",
       "      <td>0</td>\n",
       "      <td>0</td>\n",
       "      <td>0</td>\n",
       "      <td>1</td>\n",
       "      <td>1</td>\n",
       "      <td>1</td>\n",
       "      <td>NaN</td>\n",
       "      <td>NaN</td>\n",
       "      <td>NaN</td>\n",
       "      <td>NaN</td>\n",
       "    </tr>\n",
       "    <tr>\n",
       "      <th>33773</th>\n",
       "      <td>338239214940</td>\n",
       "      <td>2013-05-03</td>\n",
       "      <td>2013-05-05</td>\n",
       "      <td>NaT</td>\n",
       "      <td>NaT</td>\n",
       "      <td>0</td>\n",
       "      <td>0</td>\n",
       "      <td>0</td>\n",
       "      <td>0</td>\n",
       "      <td>0</td>\n",
       "      <td>0</td>\n",
       "      <td>2</td>\n",
       "      <td>2</td>\n",
       "      <td>2</td>\n",
       "      <td>NaN</td>\n",
       "      <td>NaN</td>\n",
       "      <td>NaN</td>\n",
       "      <td>NaN</td>\n",
       "    </tr>\n",
       "    <tr>\n",
       "      <th>33833</th>\n",
       "      <td>338272160626</td>\n",
       "      <td>2013-06-14</td>\n",
       "      <td>2013-06-14</td>\n",
       "      <td>NaT</td>\n",
       "      <td>NaT</td>\n",
       "      <td>0</td>\n",
       "      <td>0</td>\n",
       "      <td>0</td>\n",
       "      <td>0</td>\n",
       "      <td>0</td>\n",
       "      <td>0</td>\n",
       "      <td>1</td>\n",
       "      <td>1</td>\n",
       "      <td>1</td>\n",
       "      <td>NaN</td>\n",
       "      <td>NaN</td>\n",
       "      <td>NaN</td>\n",
       "      <td>NaN</td>\n",
       "    </tr>\n",
       "    <tr>\n",
       "      <th>33845</th>\n",
       "      <td>338279229824</td>\n",
       "      <td>2013-06-26</td>\n",
       "      <td>2013-07-01</td>\n",
       "      <td>NaT</td>\n",
       "      <td>NaT</td>\n",
       "      <td>0</td>\n",
       "      <td>0</td>\n",
       "      <td>0</td>\n",
       "      <td>0</td>\n",
       "      <td>0</td>\n",
       "      <td>0</td>\n",
       "      <td>3</td>\n",
       "      <td>3</td>\n",
       "      <td>3</td>\n",
       "      <td>NaN</td>\n",
       "      <td>NaN</td>\n",
       "      <td>NaN</td>\n",
       "      <td>NaN</td>\n",
       "    </tr>\n",
       "  </tbody>\n",
       "</table>\n",
       "<p>298 rows × 18 columns</p>\n",
       "</div>"
      ],
      "text/plain": [
       "       id пользователя Дата первой сессии Дата последней сессии  \\\n",
       "306          825699357         2013-04-23            2013-07-15   \n",
       "1214      123517144582         2013-04-11            2013-06-25   \n",
       "1217      123713573312         2013-04-29            2013-05-08   \n",
       "1222      124031777977         2013-04-12            2013-04-13   \n",
       "1344      130391777308         2013-04-12            2013-04-19   \n",
       "...                ...                ...                   ...   \n",
       "33695     338199883154         2013-06-06            2013-06-06   \n",
       "33772     338237785547         2013-04-12            2013-04-12   \n",
       "33773     338239214940         2013-05-03            2013-05-05   \n",
       "33833     338272160626         2013-06-14            2013-06-14   \n",
       "33845     338279229824         2013-06-26            2013-07-01   \n",
       "\n",
       "      Дата первого платежа Дата последнего платежа  Платежи на 7 день (руб.)  \\\n",
       "306             2013-04-27              2013-07-15                        90   \n",
       "1214            2013-04-14              2013-04-14                        90   \n",
       "1217            2013-04-30              2013-05-01                       260   \n",
       "1222            2013-04-13              2013-04-13                        20   \n",
       "1344            2013-04-15              2013-04-15                        40   \n",
       "...                    ...                     ...                       ...   \n",
       "33695                  NaT                     NaT                         0   \n",
       "33772                  NaT                     NaT                         0   \n",
       "33773                  NaT                     NaT                         0   \n",
       "33833                  NaT                     NaT                         0   \n",
       "33845                  NaT                     NaT                         0   \n",
       "\n",
       "       Платежи на 14 день (руб.)  Платежи на 30 день (руб.)  \\\n",
       "306                           90                         90   \n",
       "1214                          90                         90   \n",
       "1217                         260                        260   \n",
       "1222                          20                         20   \n",
       "1344                          40                         40   \n",
       "...                          ...                        ...   \n",
       "33695                          0                          0   \n",
       "33772                          0                          0   \n",
       "33773                          0                          0   \n",
       "33833                          0                          0   \n",
       "33845                          0                          0   \n",
       "\n",
       "       Платежи на 60 день (руб.)  Платежи на 90 день (руб.)  \\\n",
       "306                           90                        180   \n",
       "1214                          90                         90   \n",
       "1217                         260                        260   \n",
       "1222                          20                         20   \n",
       "1344                          40                         40   \n",
       "...                          ...                        ...   \n",
       "33695                          0                          0   \n",
       "33772                          0                          0   \n",
       "33773                          0                          0   \n",
       "33833                          0                          0   \n",
       "33845                          0                          0   \n",
       "\n",
       "       Всего платежей (руб.)  Входы в игру (7 дней)  Входы в игру (30 дней)  \\\n",
       "306                      180                      5                      12   \n",
       "1214                      90                      4                      15   \n",
       "1217                     260                      4                       6   \n",
       "1222                      20                      2                       2   \n",
       "1344                      40                      6                       7   \n",
       "...                      ...                    ...                     ...   \n",
       "33695                      0                      1                       1   \n",
       "33772                      0                      1                       1   \n",
       "33773                      0                      2                       2   \n",
       "33833                      0                      1                       1   \n",
       "33845                      0                      3                       3   \n",
       "\n",
       "       Входы в игру (всего)  Пол  Возраст Страна Город  \n",
       "306                      22  NaN      NaN    NaN   NaN  \n",
       "1214                     51  NaN      NaN    NaN   NaN  \n",
       "1217                      6  NaN      NaN    NaN   NaN  \n",
       "1222                      2  NaN      NaN    NaN   NaN  \n",
       "1344                      7  NaN      NaN    NaN   NaN  \n",
       "...                     ...  ...      ...    ...   ...  \n",
       "33695                     1  NaN      NaN    NaN   NaN  \n",
       "33772                     1  NaN      NaN    NaN   NaN  \n",
       "33773                     2  NaN      NaN    NaN   NaN  \n",
       "33833                     1  NaN      NaN    NaN   NaN  \n",
       "33845                     3  NaN      NaN    NaN   NaN  \n",
       "\n",
       "[298 rows x 18 columns]"
      ]
     },
     "execution_count": 7,
     "metadata": {},
     "output_type": "execute_result"
    }
   ],
   "source": [
    "#data.isna().sum() показал, что в данных есть пропуски\n",
    "data[data['Пол'].isna()]"
   ]
  },
  {
   "cell_type": "markdown",
   "metadata": {},
   "source": [
    "### 2. Инфографика"
   ]
  },
  {
   "cell_type": "markdown",
   "metadata": {},
   "source": [
    "#### Влияние пола\n",
    "Найдем общий доход за разные периоды и доходы в зависимости от пола пользователя"
   ]
  },
  {
   "cell_type": "code",
   "execution_count": 9,
   "metadata": {},
   "outputs": [],
   "source": [
    "#data_sex = data[['id пользователя','Платежи на 7 день (руб.)', 'Платежи на 14 день (руб.)', 'Платежи на 30 день (руб.)','Пол']].copy()"
   ]
  },
  {
   "cell_type": "code",
   "execution_count": 175,
   "metadata": {},
   "outputs": [],
   "source": [
    "grouped_data = data.groupby('Пол')[['Платежи на 7 день (руб.)', 'Платежи на 14 день (руб.)', 'Платежи на 30 день (руб.)', 'Платежи на 60 день (руб.)', 'Платежи на 90 день (руб.)']].sum()\n"
   ]
  },
  {
   "cell_type": "code",
   "execution_count": 176,
   "metadata": {},
   "outputs": [
    {
     "data": {
      "text/html": [
       "<div>\n",
       "<style scoped>\n",
       "    .dataframe tbody tr th:only-of-type {\n",
       "        vertical-align: middle;\n",
       "    }\n",
       "\n",
       "    .dataframe tbody tr th {\n",
       "        vertical-align: top;\n",
       "    }\n",
       "\n",
       "    .dataframe thead th {\n",
       "        text-align: right;\n",
       "    }\n",
       "</style>\n",
       "<table border=\"1\" class=\"dataframe\">\n",
       "  <thead>\n",
       "    <tr style=\"text-align: right;\">\n",
       "      <th></th>\n",
       "      <th>Платежи на 7 день (руб.)</th>\n",
       "      <th>Платежи на 14 день (руб.)</th>\n",
       "      <th>Платежи на 30 день (руб.)</th>\n",
       "      <th>Платежи на 60 день (руб.)</th>\n",
       "      <th>Платежи на 90 день (руб.)</th>\n",
       "    </tr>\n",
       "    <tr>\n",
       "      <th>Пол</th>\n",
       "      <th></th>\n",
       "      <th></th>\n",
       "      <th></th>\n",
       "      <th></th>\n",
       "      <th></th>\n",
       "    </tr>\n",
       "  </thead>\n",
       "  <tbody>\n",
       "    <tr>\n",
       "      <th>female</th>\n",
       "      <td>52390</td>\n",
       "      <td>107085</td>\n",
       "      <td>197336</td>\n",
       "      <td>314260</td>\n",
       "      <td>373977</td>\n",
       "    </tr>\n",
       "    <tr>\n",
       "      <th>male</th>\n",
       "      <td>729401</td>\n",
       "      <td>1290711</td>\n",
       "      <td>2225864</td>\n",
       "      <td>3237040</td>\n",
       "      <td>3659423</td>\n",
       "    </tr>\n",
       "  </tbody>\n",
       "</table>\n",
       "</div>"
      ],
      "text/plain": [
       "        Платежи на 7 день (руб.)  Платежи на 14 день (руб.)  \\\n",
       "Пол                                                           \n",
       "female                     52390                     107085   \n",
       "male                      729401                    1290711   \n",
       "\n",
       "        Платежи на 30 день (руб.)  Платежи на 60 день (руб.)  \\\n",
       "Пол                                                            \n",
       "female                     197336                     314260   \n",
       "male                      2225864                    3237040   \n",
       "\n",
       "        Платежи на 90 день (руб.)  \n",
       "Пол                                \n",
       "female                     373977  \n",
       "male                      3659423  "
      ]
     },
     "execution_count": 176,
     "metadata": {},
     "output_type": "execute_result"
    }
   ],
   "source": [
    "grouped_data"
   ]
  },
  {
   "cell_type": "code",
   "execution_count": 126,
   "metadata": {},
   "outputs": [
    {
     "data": {
      "text/plain": [
       "13203"
      ]
     },
     "execution_count": 126,
     "metadata": {},
     "output_type": "execute_result"
    }
   ],
   "source": [
    "data[data['Пол']=='female']['Пол'].count()"
   ]
  },
  {
   "cell_type": "code",
   "execution_count": 127,
   "metadata": {},
   "outputs": [
    {
     "data": {
      "text/plain": [
       "20362"
      ]
     },
     "execution_count": 127,
     "metadata": {},
     "output_type": "execute_result"
    }
   ],
   "source": [
    "data[data['Пол']=='male']['Пол'].count()"
   ]
  },
  {
   "cell_type": "code",
   "execution_count": 73,
   "metadata": {},
   "outputs": [
    {
     "data": {
      "text/plain": [
       "785211"
      ]
     },
     "execution_count": 73,
     "metadata": {},
     "output_type": "execute_result"
    }
   ],
   "source": [
    "OverallPayment_7days = data['Платежи на 7 день (руб.)'].sum()\n",
    "OverallPayment_7days "
   ]
  },
  {
   "cell_type": "code",
   "execution_count": 34,
   "metadata": {},
   "outputs": [
    {
     "data": {
      "text/plain": [
       "729401"
      ]
     },
     "execution_count": 34,
     "metadata": {},
     "output_type": "execute_result"
    }
   ],
   "source": [
    "MaleProfit7days = data[data['Пол']=='male']['Платежи на 7 день (руб.)'].sum()\n",
    "MaleProfit7days"
   ]
  },
  {
   "cell_type": "code",
   "execution_count": 35,
   "metadata": {},
   "outputs": [
    {
     "data": {
      "text/plain": [
       "52390"
      ]
     },
     "execution_count": 35,
     "metadata": {},
     "output_type": "execute_result"
    }
   ],
   "source": [
    "FemaleProfit7days = data[data['Пол']=='female']['Платежи на 7 день (руб.)'].sum()\n",
    "FemaleProfit7days"
   ]
  },
  {
   "cell_type": "code",
   "execution_count": 39,
   "metadata": {},
   "outputs": [
    {
     "data": {
      "text/plain": [
       "617105"
      ]
     },
     "execution_count": 39,
     "metadata": {},
     "output_type": "execute_result"
    }
   ],
   "source": [
    "OverallPayment_14days = data['Платежи на 14 день (руб.)'].sum() - data['Платежи на 7 день (руб.)'].sum()\n",
    "OverallPayment_14days"
   ]
  },
  {
   "cell_type": "code",
   "execution_count": 57,
   "metadata": {},
   "outputs": [],
   "source": [
    "data['second_week_profit'] = data['Платежи на 14 день (руб.)'] - data['Платежи на 7 день (руб.)']"
   ]
  },
  {
   "cell_type": "code",
   "execution_count": 58,
   "metadata": {},
   "outputs": [
    {
     "data": {
      "text/plain": [
       "561310"
      ]
     },
     "execution_count": 58,
     "metadata": {},
     "output_type": "execute_result"
    }
   ],
   "source": [
    "MaleProfit14days = data[data['Пол']=='male']['second_week_profit'].sum()\n",
    "MaleProfit14days"
   ]
  },
  {
   "cell_type": "code",
   "execution_count": 59,
   "metadata": {},
   "outputs": [
    {
     "data": {
      "text/plain": [
       "54695"
      ]
     },
     "execution_count": 59,
     "metadata": {},
     "output_type": "execute_result"
    }
   ],
   "source": [
    "FemaleProfit14days = data[data[\"Пол\"]=='female']['second_week_profit'].sum()\n",
    "FemaleProfit14days"
   ]
  },
  {
   "cell_type": "code",
   "execution_count": 71,
   "metadata": {},
   "outputs": [
    {
     "data": {
      "text/plain": [
       "617105"
      ]
     },
     "execution_count": 71,
     "metadata": {},
     "output_type": "execute_result"
    }
   ],
   "source": [
    "OverallPayment_30days = data['Платежи на 14 день (руб.)'].sum() - data['Платежи на 7 день (руб.)'].sum()\n",
    "OverallPayment_30days"
   ]
  },
  {
   "cell_type": "code",
   "execution_count": 63,
   "metadata": {},
   "outputs": [
    {
     "data": {
      "text/plain": [
       "1027529"
      ]
     },
     "execution_count": 63,
     "metadata": {},
     "output_type": "execute_result"
    }
   ],
   "source": [
    "data['1_month_profit'] = data['Платежи на 30 день (руб.)'] - data['Платежи на 14 день (руб.)']\n",
    "data['1_month_profit'].sum()"
   ]
  },
  {
   "cell_type": "code",
   "execution_count": 61,
   "metadata": {},
   "outputs": [
    {
     "data": {
      "text/plain": [
       "935153"
      ]
     },
     "execution_count": 61,
     "metadata": {},
     "output_type": "execute_result"
    }
   ],
   "source": [
    "MaleProfit30days = data[data['Пол']=='male']['1_month_profit'].sum()\n",
    "MaleProfit30days "
   ]
  },
  {
   "cell_type": "code",
   "execution_count": 64,
   "metadata": {},
   "outputs": [
    {
     "data": {
      "text/plain": [
       "90251"
      ]
     },
     "execution_count": 64,
     "metadata": {},
     "output_type": "execute_result"
    }
   ],
   "source": [
    "FemaleProfit30days = data[data['Пол']=='female']['1_month_profit'].sum()\n",
    "FemaleProfit30days "
   ]
  },
  {
   "cell_type": "code",
   "execution_count": 75,
   "metadata": {},
   "outputs": [
    {
     "data": {
      "text/plain": [
       "1128890"
      ]
     },
     "execution_count": 75,
     "metadata": {},
     "output_type": "execute_result"
    }
   ],
   "source": [
    "OverallPayment_2month = data['Платежи на 60 день (руб.)'].sum() - data['Платежи на 30 день (руб.)'].sum()\n",
    "OverallPayment_2month"
   ]
  },
  {
   "cell_type": "code",
   "execution_count": 65,
   "metadata": {},
   "outputs": [
    {
     "data": {
      "text/plain": [
       "1128890"
      ]
     },
     "execution_count": 65,
     "metadata": {},
     "output_type": "execute_result"
    }
   ],
   "source": [
    "data['2_month_profit'] = data['Платежи на 60 день (руб.)'] - data['Платежи на 30 день (руб.)']\n",
    "data['2_month_profit'].sum()"
   ]
  },
  {
   "cell_type": "code",
   "execution_count": 66,
   "metadata": {},
   "outputs": [
    {
     "data": {
      "text/plain": [
       "1011176"
      ]
     },
     "execution_count": 66,
     "metadata": {},
     "output_type": "execute_result"
    }
   ],
   "source": [
    "MaleProfit2month = data[data['Пол']=='male']['2_month_profit'].sum()\n",
    "MaleProfit2month "
   ]
  },
  {
   "cell_type": "code",
   "execution_count": 67,
   "metadata": {},
   "outputs": [
    {
     "data": {
      "text/plain": [
       "116924"
      ]
     },
     "execution_count": 67,
     "metadata": {},
     "output_type": "execute_result"
    }
   ],
   "source": [
    "FemaleProfit2month = data[data['Пол']=='female']['2_month_profit'].sum()\n",
    "FemaleProfit2month "
   ]
  },
  {
   "cell_type": "code",
   "execution_count": 76,
   "metadata": {},
   "outputs": [
    {
     "data": {
      "text/plain": [
       "482190"
      ]
     },
     "execution_count": 76,
     "metadata": {},
     "output_type": "execute_result"
    }
   ],
   "source": [
    "OverallPayment_3month = data['Платежи на 90 день (руб.)'].sum() - data['Платежи на 60 день (руб.)'].sum()\n",
    "OverallPayment_3month"
   ]
  },
  {
   "cell_type": "code",
   "execution_count": 68,
   "metadata": {},
   "outputs": [
    {
     "data": {
      "text/plain": [
       "482190"
      ]
     },
     "execution_count": 68,
     "metadata": {},
     "output_type": "execute_result"
    }
   ],
   "source": [
    "data['3_month_profit'] = data['Платежи на 90 день (руб.)'] - data['Платежи на 60 день (руб.)']\n",
    "data['3_month_profit'].sum()"
   ]
  },
  {
   "cell_type": "code",
   "execution_count": 69,
   "metadata": {},
   "outputs": [
    {
     "data": {
      "text/plain": [
       "422383"
      ]
     },
     "execution_count": 69,
     "metadata": {},
     "output_type": "execute_result"
    }
   ],
   "source": [
    "MaleProfit3month = data[data['Пол']=='male']['3_month_profit'].sum()\n",
    "MaleProfit3month "
   ]
  },
  {
   "cell_type": "code",
   "execution_count": 70,
   "metadata": {},
   "outputs": [
    {
     "data": {
      "text/plain": [
       "59717"
      ]
     },
     "execution_count": 70,
     "metadata": {},
     "output_type": "execute_result"
    }
   ],
   "source": [
    "FemaleProfit3month = data[data['Пол']=='female']['3_month_profit'].sum()\n",
    "FemaleProfit3month"
   ]
  },
  {
   "cell_type": "code",
   "execution_count": 96,
   "metadata": {},
   "outputs": [],
   "source": [
    "total_profit = [OverallPayment_7days, OverallPayment_14days, OverallPayment_30days, OverallPayment_2month, OverallPayment_3month]\n",
    "men = [MaleProfit7days, MaleProfit14days, MaleProfit30days, MaleProfit2month, MaleProfit3month]\n",
    "female = [FemaleProfit7days, FemaleProfit14days, FemaleProfit30days, FemaleProfit2month, FemaleProfit3month]\n"
   ]
  },
  {
   "cell_type": "code",
   "execution_count": 88,
   "metadata": {},
   "outputs": [],
   "source": [
    "weeks = ['1st Week', '2nd Week', '3rd-4th Weeks', '2nd Month', '3rd Month']"
   ]
  },
  {
   "cell_type": "code",
   "execution_count": 84,
   "metadata": {},
   "outputs": [],
   "source": [
    "x = range(len(weeks))"
   ]
  },
  {
   "cell_type": "code",
   "execution_count": 118,
   "metadata": {},
   "outputs": [
    {
     "data": {
      "image/png": "[encoded data removed]",
      "text/plain": [
       "<Figure size 640x480 with 1 Axes>"
      ]
     },
     "metadata": {},
     "output_type": "display_data"
    }
   ],
   "source": [
    "plt.bar(weeks, total_profit)\n",
    "\n",
    "plt.title('Доход игры за разные периоды (в млн. руб.)')\n",
    "plt.xlabel('weeks', fontsize=15)\n",
    "plt.ylabel('total_profit', fontsize=15)\n",
    "plt.show()"
   ]
  },
  {
   "cell_type": "code",
   "execution_count": 205,
   "metadata": {},
   "outputs": [
    {
     "data": {
      "image/png": "[encoded data removed]",
      "text/plain": [
       "<Figure size 640x480 with 1 Axes>"
      ]
     },
     "metadata": {},
     "output_type": "display_data"
    }
   ],
   "source": [
    "\n",
    "X_axis = np.arange(len(weeks))\n",
    "  \n",
    "plt.bar(X_axis - 0.2, female, 0.4, label = 'female', color = \"pink\")\n",
    "plt.bar(X_axis + 0.2, men, 0.4, label = 'men', color = \"lightskyblue\")\n",
    "  \n",
    "plt.xticks(X_axis, weeks)\n",
    "plt.xlabel(\"weeks\")\n",
    "plt.ylabel(\"profit\")\n",
    "plt.title(\"Доход в зависимости от пола пользователей (в млн. руб.)\")\n",
    "plt.legend()\n",
    "plt.show()"
   ]
  },
  {
   "cell_type": "code",
   "execution_count": 148,
   "metadata": {},
   "outputs": [
    {
     "data": {
      "image/png": "[encoded data removed]",
      "text/plain": [
       "<Figure size 1000x500 with 1 Axes>"
      ]
     },
     "metadata": {},
     "output_type": "display_data"
    }
   ],
   "source": [
    "labels = ['мужчины', 'женщины']\n",
    "sizes = [len(data[data['Пол']=='male']), len(data[data['Пол']=='female'])]\n",
    "\n",
    "#fig, ax = plt.subplots();\n",
    "#ax.pie(sizes, labels=labels);\n",
    "\n",
    "\n",
    "\n",
    "plt.figure(figsize=(10, 5))\n",
    "\n",
    "colors = ['lightskyblue', 'pink']\n",
    "plt.pie(sizes, labels=labels, colors=colors,\n",
    "        autopct='%1.1f%%', shadow=False, startangle=70)\n",
    "plt.title('Соотношение мужчин и женщин в игре')\n",
    "\n",
    "plt.show()"
   ]
  },
  {
   "cell_type": "markdown",
   "metadata": {},
   "source": [
    "#### Вывод:\n",
    "- В игре преймщественно мужчины: 60% мужин(20362) и 40% женщин(13203). При этом мужчины тратят почти в 10 раз больше денег. \n",
    "- Первая неделя самая эффективная в плане генерирования выручки. При этом видно что пользователи теряют интерес к игре на третий месяц.  \n"
   ]
  },
  {
   "cell_type": "markdown",
   "metadata": {},
   "source": [
    "#### Влияние возраста "
   ]
  },
  {
   "cell_type": "code",
   "execution_count": 207,
   "metadata": {},
   "outputs": [
    {
     "data": {
      "image/png": "[encoded data removed]",
      "text/plain": [
       "<Figure size 1800x600 with 1 Axes>"
      ]
     },
     "metadata": {},
     "output_type": "display_data"
    }
   ],
   "source": [
    "\n",
    "\n",
    "plt.figure(figsize=(18, 6))\n",
    "\n",
    "bar1 = plt.Rectangle((0, 0), 1, 1, fc=\"lightskyblue\", edgecolor='none')\n",
    "bar2 = plt.Rectangle((0, 0), 1, 1, fc='pink', edgecolor='none')\n",
    "\n",
    "data.groupby('Возраст')['Возраст'].count().plot(kind='bar', width=0.9, color=\"pink\")\n",
    "data[data['Пол'] == 'male'].groupby('Возраст')['Возраст'].count().plot(kind='bar', width=0.9, color=\"lightskyblue\")\n",
    "\n",
    "l = plt.legend([bar1, bar2], ['Мужчины', 'Женщины'], loc=1, ncol=2, prop={'size': 10})\n",
    "\n",
    "plt.title('Количество пользователей в зависимости от возраста, в течение всего периода')\n",
    "plt.ylabel('Количество пользователей')\n",
    "plt.grid(True)\n",
    "\n",
    "plt.show()\n"
   ]
  },
  {
   "cell_type": "code",
   "execution_count": 210,
   "metadata": {},
   "outputs": [
    {
     "data": {
      "image/png": "[encoded data removed]",
      "text/plain": [
       "<Figure size 1800x600 with 1 Axes>"
      ]
     },
     "metadata": {},
     "output_type": "display_data"
    }
   ],
   "source": [
    "plt.figure(figsize=(18, 6))\n",
    "\n",
    "bar1 = plt.Rectangle((0, 0), 1, 1, fc=\"lightskyblue\", edgecolor='none')\n",
    "bar2 = plt.Rectangle((0, 0), 1, 1, fc='pink', edgecolor='none')\n",
    "\n",
    "data.groupby('Возраст')['Возраст'].count().plot(kind='bar', width=0.9, color=\"pink\")\n",
    "data[data['Пол'] == 'male'].groupby('Возраст')['Всего платежей (руб.)'].sum().plot(kind='bar', width=0.9, color=\"lightskyblue\")\n",
    "data[data['Пол'] == 'female'].groupby('Возраст')['Всего платежей (руб.)'].sum().plot(kind='bar', width=0.9, color=\"pink\")\n",
    "\n",
    "l = plt.legend([bar1, bar2], ['Мужчины', 'Женщины'], loc=1, ncol=2, prop={'size': 10})\n",
    "\n",
    "plt.title('Платежи пользователей в зависимости от возраста, в течение всего периода')\n",
    "plt.ylabel('Количество пользователей')\n",
    "plt.grid(True)\n",
    "#data[data['Пол'] == 'male'].groupby('Возраст')['Всего платежей (руб.)'].agg(np.sum).plot(kind='bar', width=0.9, color=\"lightskyblue\")\n",
    "plt.show()"
   ]
  },
  {
   "cell_type": "markdown",
   "metadata": {},
   "source": [
    "#### Вывод: \n",
    "- Как у мужчин так и у женщин наибольшее кол-во пользователей в игре находится в промежутку 25-43 лет. \n",
    "- При этом 90% платежей приходится на 25-60 лет, из них можно выделить возрастную группу в 28-51 год, с наибольшими вложениями в  игру."
   ]
  },
  {
   "cell_type": "markdown",
   "metadata": {},
   "source": [
    "#### Влияние географии"
   ]
  },
  {
   "cell_type": "code",
   "execution_count": 230,
   "metadata": {},
   "outputs": [
    {
     "data": {
      "text/plain": [
       "Страна\n",
       "RUSSIAN_FEDERATION    21325\n",
       "UKRAINE                5555\n",
       "GEORGIA                1432\n",
       "ARMENIA                1220\n",
       "GERMANY                 910\n",
       "BELARUS                 613\n",
       "KAZAKHSTAN              506\n",
       "AZERBAIJAN              297\n",
       "LATVIA                  246\n",
       "ISRAEL                  222\n",
       "Name: Страна, dtype: int64"
      ]
     },
     "execution_count": 230,
     "metadata": {},
     "output_type": "execute_result"
    }
   ],
   "source": [
    "# Список 10 стран с наибольши кол-ом пользователей в игре\n",
    "head_countries = data.groupby(\"Страна\")['Страна'].count().sort_values(ascending = False).head(10)\n",
    "head_countries"
   ]
  },
  {
   "cell_type": "code",
   "execution_count": 223,
   "metadata": {},
   "outputs": [
    {
     "data": {
      "text/plain": [
       "32326"
      ]
     },
     "execution_count": 223,
     "metadata": {},
     "output_type": "execute_result"
    }
   ],
   "source": [
    "# Суммарное кол-во пользователей из выше перечисленных стран \n",
    "data.groupby(\"Страна\")['Страна'].count().sort_values(ascending = False).head(10).sum()"
   ]
  },
  {
   "cell_type": "code",
   "execution_count": 224,
   "metadata": {},
   "outputs": [
    {
     "data": {
      "text/plain": [
       "33565"
      ]
     },
     "execution_count": 224,
     "metadata": {},
     "output_type": "execute_result"
    }
   ],
   "source": [
    "# Общее кол-во пользователей зарегестрированных в игре из всех стран \n",
    "data.groupby(\"Страна\")['Страна'].count().sort_values(ascending = False).sum()"
   ]
  },
  {
   "cell_type": "code",
   "execution_count": 239,
   "metadata": {},
   "outputs": [
    {
     "data": {
      "image/png": "[encoded data removed]",
      "text/plain": [
       "<Figure size 640x480 with 1 Axes>"
      ]
     },
     "metadata": {},
     "output_type": "display_data"
    }
   ],
   "source": [
    "head_countries.plot.bar();\n",
    "plt.xlabel('Страна')\n",
    "plt.ylabel('Кол-во пользователей')\n",
    "plt.title('Bar Chart')\n",
    "plt.show();\n"
   ]
  },
  {
   "cell_type": "code",
   "execution_count": 247,
   "metadata": {},
   "outputs": [
    {
     "data": {
      "text/plain": [
       "Страна\n",
       "RUSSIAN_FEDERATION    3540466\n",
       "UKRAINE                164433\n",
       "ISRAEL                 101473\n",
       "GERMANY                 91996\n",
       "UNITED_STATES           28003\n",
       "KAZAKHSTAN              25046\n",
       "BELARUS                 24454\n",
       "ESTONIA                 18433\n",
       "LATVIA                  18202\n",
       "LITHUANIA               17140\n",
       "Name: Всего платежей (руб.), dtype: int64"
      ]
     },
     "execution_count": 247,
     "metadata": {},
     "output_type": "execute_result"
    }
   ],
   "source": [
    "# Пользователи этих стран больше всего приносят прибыли для игры\n",
    "data.groupby(\"Страна\")['Всего платежей (руб.)'].sum().sort_values(ascending = False).head(10)"
   ]
  },
  {
   "cell_type": "markdown",
   "metadata": {},
   "source": [
    "#### Вывод:\n",
    "- 96% всех пользователей игры регестрируются из 10 основных стран. Большая часть которых страны СНГ, а так же страны с крупной русско-говорящей диаспорой \n",
    "- 63% пользователей приходится на РФ\n",
    "- Пользователи из Израиля, Германии, США, Прибалтики, несмотря на то что их меньше в количественном исчислении, платят существенную долю от общего дохода игры. Т.е. средний чек пользователя зарубежных стран больше, нежели стран СНГ."
   ]
  },
  {
   "cell_type": "markdown",
   "metadata": {},
   "source": [
    "#### Рекомендации:\n",
    "- Необходим сконцентрироваться на зарубежной аудитории, перевод интерфейса на англ. язык, маркетинговая кампания в зарубежных соц. сетях\n",
    "- Расширить геймплей для удержания игроков, после третьего месяца"
   ]
  }
 ],
 "metadata": {
  "kernelspec": {
   "display_name": "Python 3",
   "language": "python",
   "name": "python3"
  },
  "language_info": {
   "codemirror_mode": {
    "name": "ipython",
    "version": 3
   },
   "file_extension": ".py",
   "mimetype": "text/x-python",
   "name": "python",
   "nbconvert_exporter": "python",
   "pygments_lexer": "ipython3",
   "version": "3.11.4"
  },
  "orig_nbformat": 4
 },
 "nbformat": 4,
 "nbformat_minor": 2
}
