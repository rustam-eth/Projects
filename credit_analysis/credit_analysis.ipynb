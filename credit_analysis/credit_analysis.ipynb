{
 "cells": [
  {
   "cell_type": "markdown",
   "metadata": {},
   "source": [
    "# Исследование надежности заемщиков."
   ]
  },
  {
   "cell_type": "markdown",
   "metadata": {},
   "source": [
    "### Шаг 1. Обзор данных"
   ]
  },
  {
   "cell_type": "markdown",
   "metadata": {},
   "source": [
    "Описание проекта\n",
    "Заказчик — кредитный отдел банка. Нужно разобраться, влияет ли семейное положение и количество детей клиента на факт погашения кредита в срок. Входные данные от банка — статистика о платёжеспособности клиентов.\n",
    "Результаты исследования будут учтены при построении модели кредитного скоринга — специальной системы, которая оценивает способность потенциального заёмщика вернуть кредит банку.\n"
   ]
  },
  {
   "cell_type": "code",
   "execution_count": 2,
   "id": "d04ddb74",
   "metadata": {},
   "outputs": [],
   "source": [
    "import pandas as pd\n",
    "#импортирование библиотеки"
   ]
  },
  {
   "cell_type": "code",
   "execution_count": 3,
   "id": "93dd2674",
   "metadata": {},
   "outputs": [
    {
     "name": "stdout",
     "output_type": "stream",
     "text": [
      "<class 'pandas.core.frame.DataFrame'>\n",
      "RangeIndex: 21525 entries, 0 to 21524\n",
      "Data columns (total 12 columns):\n",
      " #   Column            Non-Null Count  Dtype  \n",
      "---  ------            --------------  -----  \n",
      " 0   children          21525 non-null  int64  \n",
      " 1   days_employed     19351 non-null  float64\n",
      " 2   dob_years         21525 non-null  int64  \n",
      " 3   education         21525 non-null  object \n",
      " 4   education_id      21525 non-null  int64  \n",
      " 5   family_status     21525 non-null  object \n",
      " 6   family_status_id  21525 non-null  int64  \n",
      " 7   gender            21525 non-null  object \n",
      " 8   income_type       21525 non-null  object \n",
      " 9   debt              21525 non-null  int64  \n",
      " 10  total_income      19351 non-null  float64\n",
      " 11  purpose           21525 non-null  object \n",
      "dtypes: float64(2), int64(5), object(5)\n",
      "memory usage: 2.0+ MB\n"
     ]
    }
   ],
   "source": [
    "data = pd.read_csv('/datasets/data.csv')\n",
    "data.info()"
   ]
  },
  {
   "cell_type": "markdown",
   "metadata": {},
   "source": [
    "пропущены значения типа float64 в столбцах days_employed & total_income. "
   ]
  },
  {
   "cell_type": "markdown",
   "metadata": {},
   "source": [
    "### Шаг 2.1 Заполнение пропусков"
   ]
  },
  {
   "cell_type": "code",
   "execution_count": 4,
   "id": "3d3c4e38",
   "metadata": {},
   "outputs": [
    {
     "data": {
      "text/plain": [
       "children               0\n",
       "days_employed       2174\n",
       "dob_years              0\n",
       "education              0\n",
       "education_id           0\n",
       "family_status          0\n",
       "family_status_id       0\n",
       "gender                 0\n",
       "income_type            0\n",
       "debt                   0\n",
       "total_income        2174\n",
       "purpose                0\n",
       "dtype: int64"
      ]
     },
     "metadata": {},
     "output_type": "display_data"
    },
    {
     "data": {
      "text/html": [
       "<div>\n",
       "<style scoped>\n",
       "    .dataframe tbody tr th:only-of-type {\n",
       "        vertical-align: middle;\n",
       "    }\n",
       "\n",
       "    .dataframe tbody tr th {\n",
       "        vertical-align: top;\n",
       "    }\n",
       "\n",
       "    .dataframe thead th {\n",
       "        text-align: right;\n",
       "    }\n",
       "</style>\n",
       "<table border=\"1\" class=\"dataframe\">\n",
       "  <thead>\n",
       "    <tr style=\"text-align: right;\">\n",
       "      <th></th>\n",
       "      <th>children</th>\n",
       "      <th>days_employed</th>\n",
       "      <th>dob_years</th>\n",
       "      <th>education</th>\n",
       "      <th>education_id</th>\n",
       "      <th>family_status</th>\n",
       "      <th>family_status_id</th>\n",
       "      <th>gender</th>\n",
       "      <th>income_type</th>\n",
       "      <th>debt</th>\n",
       "      <th>total_income</th>\n",
       "      <th>purpose</th>\n",
       "    </tr>\n",
       "  </thead>\n",
       "  <tbody>\n",
       "    <tr>\n",
       "      <th>0</th>\n",
       "      <td>1</td>\n",
       "      <td>-8437.673028</td>\n",
       "      <td>42</td>\n",
       "      <td>высшее</td>\n",
       "      <td>0</td>\n",
       "      <td>женат / замужем</td>\n",
       "      <td>0</td>\n",
       "      <td>F</td>\n",
       "      <td>сотрудник</td>\n",
       "      <td>0</td>\n",
       "      <td>253875.639453</td>\n",
       "      <td>покупка жилья</td>\n",
       "    </tr>\n",
       "    <tr>\n",
       "      <th>1</th>\n",
       "      <td>1</td>\n",
       "      <td>-4024.803754</td>\n",
       "      <td>36</td>\n",
       "      <td>среднее</td>\n",
       "      <td>1</td>\n",
       "      <td>женат / замужем</td>\n",
       "      <td>0</td>\n",
       "      <td>F</td>\n",
       "      <td>сотрудник</td>\n",
       "      <td>0</td>\n",
       "      <td>112080.014102</td>\n",
       "      <td>приобретение автомобиля</td>\n",
       "    </tr>\n",
       "    <tr>\n",
       "      <th>2</th>\n",
       "      <td>0</td>\n",
       "      <td>-5623.422610</td>\n",
       "      <td>33</td>\n",
       "      <td>Среднее</td>\n",
       "      <td>1</td>\n",
       "      <td>женат / замужем</td>\n",
       "      <td>0</td>\n",
       "      <td>M</td>\n",
       "      <td>сотрудник</td>\n",
       "      <td>0</td>\n",
       "      <td>145885.952297</td>\n",
       "      <td>покупка жилья</td>\n",
       "    </tr>\n",
       "    <tr>\n",
       "      <th>3</th>\n",
       "      <td>3</td>\n",
       "      <td>-4124.747207</td>\n",
       "      <td>32</td>\n",
       "      <td>среднее</td>\n",
       "      <td>1</td>\n",
       "      <td>женат / замужем</td>\n",
       "      <td>0</td>\n",
       "      <td>M</td>\n",
       "      <td>сотрудник</td>\n",
       "      <td>0</td>\n",
       "      <td>267628.550329</td>\n",
       "      <td>дополнительное образование</td>\n",
       "    </tr>\n",
       "    <tr>\n",
       "      <th>4</th>\n",
       "      <td>0</td>\n",
       "      <td>340266.072047</td>\n",
       "      <td>53</td>\n",
       "      <td>среднее</td>\n",
       "      <td>1</td>\n",
       "      <td>гражданский брак</td>\n",
       "      <td>1</td>\n",
       "      <td>F</td>\n",
       "      <td>пенсионер</td>\n",
       "      <td>0</td>\n",
       "      <td>158616.077870</td>\n",
       "      <td>сыграть свадьбу</td>\n",
       "    </tr>\n",
       "    <tr>\n",
       "      <th>5</th>\n",
       "      <td>0</td>\n",
       "      <td>-926.185831</td>\n",
       "      <td>27</td>\n",
       "      <td>высшее</td>\n",
       "      <td>0</td>\n",
       "      <td>гражданский брак</td>\n",
       "      <td>1</td>\n",
       "      <td>M</td>\n",
       "      <td>компаньон</td>\n",
       "      <td>0</td>\n",
       "      <td>255763.565419</td>\n",
       "      <td>покупка жилья</td>\n",
       "    </tr>\n",
       "    <tr>\n",
       "      <th>6</th>\n",
       "      <td>0</td>\n",
       "      <td>-2879.202052</td>\n",
       "      <td>43</td>\n",
       "      <td>высшее</td>\n",
       "      <td>0</td>\n",
       "      <td>женат / замужем</td>\n",
       "      <td>0</td>\n",
       "      <td>F</td>\n",
       "      <td>компаньон</td>\n",
       "      <td>0</td>\n",
       "      <td>240525.971920</td>\n",
       "      <td>операции с жильем</td>\n",
       "    </tr>\n",
       "    <tr>\n",
       "      <th>7</th>\n",
       "      <td>0</td>\n",
       "      <td>-152.779569</td>\n",
       "      <td>50</td>\n",
       "      <td>СРЕДНЕЕ</td>\n",
       "      <td>1</td>\n",
       "      <td>женат / замужем</td>\n",
       "      <td>0</td>\n",
       "      <td>M</td>\n",
       "      <td>сотрудник</td>\n",
       "      <td>0</td>\n",
       "      <td>135823.934197</td>\n",
       "      <td>образование</td>\n",
       "    </tr>\n",
       "    <tr>\n",
       "      <th>8</th>\n",
       "      <td>2</td>\n",
       "      <td>-6929.865299</td>\n",
       "      <td>35</td>\n",
       "      <td>ВЫСШЕЕ</td>\n",
       "      <td>0</td>\n",
       "      <td>гражданский брак</td>\n",
       "      <td>1</td>\n",
       "      <td>F</td>\n",
       "      <td>сотрудник</td>\n",
       "      <td>0</td>\n",
       "      <td>95856.832424</td>\n",
       "      <td>на проведение свадьбы</td>\n",
       "    </tr>\n",
       "    <tr>\n",
       "      <th>9</th>\n",
       "      <td>0</td>\n",
       "      <td>-2188.756445</td>\n",
       "      <td>41</td>\n",
       "      <td>среднее</td>\n",
       "      <td>1</td>\n",
       "      <td>женат / замужем</td>\n",
       "      <td>0</td>\n",
       "      <td>M</td>\n",
       "      <td>сотрудник</td>\n",
       "      <td>0</td>\n",
       "      <td>144425.938277</td>\n",
       "      <td>покупка жилья для семьи</td>\n",
       "    </tr>\n",
       "  </tbody>\n",
       "</table>\n",
       "</div>"
      ],
      "text/plain": [
       "   children  days_employed  dob_years education  education_id  \\\n",
       "0         1   -8437.673028         42    высшее             0   \n",
       "1         1   -4024.803754         36   среднее             1   \n",
       "2         0   -5623.422610         33   Среднее             1   \n",
       "3         3   -4124.747207         32   среднее             1   \n",
       "4         0  340266.072047         53   среднее             1   \n",
       "5         0    -926.185831         27    высшее             0   \n",
       "6         0   -2879.202052         43    высшее             0   \n",
       "7         0    -152.779569         50   СРЕДНЕЕ             1   \n",
       "8         2   -6929.865299         35    ВЫСШЕЕ             0   \n",
       "9         0   -2188.756445         41   среднее             1   \n",
       "\n",
       "      family_status  family_status_id gender income_type  debt   total_income  \\\n",
       "0   женат / замужем                 0      F   сотрудник     0  253875.639453   \n",
       "1   женат / замужем                 0      F   сотрудник     0  112080.014102   \n",
       "2   женат / замужем                 0      M   сотрудник     0  145885.952297   \n",
       "3   женат / замужем                 0      M   сотрудник     0  267628.550329   \n",
       "4  гражданский брак                 1      F   пенсионер     0  158616.077870   \n",
       "5  гражданский брак                 1      M   компаньон     0  255763.565419   \n",
       "6   женат / замужем                 0      F   компаньон     0  240525.971920   \n",
       "7   женат / замужем                 0      M   сотрудник     0  135823.934197   \n",
       "8  гражданский брак                 1      F   сотрудник     0   95856.832424   \n",
       "9   женат / замужем                 0      M   сотрудник     0  144425.938277   \n",
       "\n",
       "                      purpose  \n",
       "0               покупка жилья  \n",
       "1     приобретение автомобиля  \n",
       "2               покупка жилья  \n",
       "3  дополнительное образование  \n",
       "4             сыграть свадьбу  \n",
       "5               покупка жилья  \n",
       "6           операции с жильем  \n",
       "7                 образование  \n",
       "8       на проведение свадьбы  \n",
       "9     покупка жилья для семьи  "
      ]
     },
     "metadata": {},
     "output_type": "display_data"
    }
   ],
   "source": [
    "display(data.isna().sum())\n",
    "display(data.head(10))"
   ]
  },
  {
   "cell_type": "markdown",
   "metadata": {},
   "source": [
    "### Шаг 2.2 Проверка данных на аномалии и исправления."
   ]
  },
  {
   "cell_type": "code",
   "execution_count": 5,
   "id": "5ee9fc7d",
   "metadata": {},
   "outputs": [
    {
     "data": {
      "text/plain": [
       "'Доля пропущенных значений в столбце days_employed: 11%'"
      ]
     },
     "metadata": {},
     "output_type": "display_data"
    },
    {
     "data": {
      "text/plain": [
       "'Доля пропущенных значений в столбце total_income: 11%'"
      ]
     },
     "metadata": {},
     "output_type": "display_data"
    }
   ],
   "source": [
    "#проверьте, какую долю составляют пропущенные значения в каждом из столбцов с пропусками;\n",
    "conversion_days_employed = data['days_employed'].isna().sum()/data['days_employed'].count()\n",
    "display('Доля пропущенных значений в столбце days_employed: {:.0%}'.format(conversion_days_employed))\n",
    "conversion_total_income = data['total_income'].isna().sum()/data['total_income'].count()\n",
    "display('Доля пропущенных значений в столбце total_income: {:.0%}'.format(conversion_total_income))"
   ]
  },
  {
   "cell_type": "markdown",
   "metadata": {},
   "source": [
    "Причинами пропусков (NaN) могут быть ошибки ввода данных, сокрытие информации. Вданном датасете в первых 10 строках в столбце days_employed можно увидеть отрицательные значения, что говорит о неверном вводе данных. В столбце total_income возможна такая же ошибка, но так же люди неохотно делятся суммой своих доходов, так что в данном случае пропуски NaN могут быть обусловлены сокрытием информации в дополнении к ошибке ввода данных."
   ]
  },
  {
   "cell_type": "code",
   "execution_count": 6,
   "id": "9847ca14",
   "metadata": {},
   "outputs": [
    {
     "data": {
      "text/plain": [
       "children            0\n",
       "days_employed       0\n",
       "dob_years           0\n",
       "education           0\n",
       "education_id        0\n",
       "family_status       0\n",
       "family_status_id    0\n",
       "gender              0\n",
       "income_type         0\n",
       "debt                0\n",
       "total_income        0\n",
       "purpose             0\n",
       "dtype: int64"
      ]
     },
     "metadata": {},
     "output_type": "display_data"
    }
   ],
   "source": [
    "#найдем ср. знач и медиану дохода и стажа соотв.\n",
    "days_employed_avg = data['days_employed'].mean()\n",
    "data['days_employed'] = data['days_employed'].fillna(value = days_employed_avg)\n",
    "total_income_avg = data['total_income'].median()\n",
    "data['total_income'] = data['total_income'].fillna(value = total_income_avg)\n",
    "#data['days_employed'] = data['days_employed'].fillna(data.groupby(['days_employed'])['days_employed'].transform('median'))\n",
    "#data['total_income'] = data['total_income'].fillna(data.groupby(['income_type'])['total_income'].transform('median'))\n",
    "display(data.isna().sum())\n"
   ]
  },
  {
   "cell_type": "markdown",
   "metadata": {},
   "source": [
    "Медианное значение в отлиции от Среднего более точно характеризует пропуски в количественных переменных.\n",
    "\n",
    "Шаг 2.2. В данных могут встречаться артефакты (аномалии) — значения, которые не отражают действительность и появились по какой-то ошибке. Например, отрицательное количество дней трудового стажа в столбце days_employed. Для реальных данных это нормально. Обработайте значения в столбцах с аномалиями и опишите возможные причины появления таких данных."
   ]
  },
  {
   "cell_type": "code",
   "execution_count": 7,
   "id": "882dc27e",
   "metadata": {},
   "outputs": [
    {
     "data": {
      "text/plain": [
       "count    21525.000000\n",
       "mean         0.479721\n",
       "std          0.755528\n",
       "min          0.000000\n",
       "25%          0.000000\n",
       "50%          0.000000\n",
       "75%          1.000000\n",
       "max          5.000000\n",
       "Name: children, dtype: float64"
      ]
     },
     "execution_count": 7,
     "metadata": {},
     "output_type": "execute_result"
    }
   ],
   "source": [
    "data['days_employed'] = abs(data['days_employed'])\n",
    "data['children'] = abs(data['children'])\n",
    "\n",
    "data['children'] = data['children'].replace(20, 2) #заменим 20 детей на 2, т.к. это с большой вероятностью опечатка, выброс. \n",
    "data['children'].describe()"
   ]
  },
  {
   "cell_type": "markdown",
   "metadata": {},
   "source": [
    "### Шаг 2.3. Изменение типов данных."
   ]
  },
  {
   "cell_type": "code",
   "execution_count": 8,
   "id": "a5601721",
   "metadata": {},
   "outputs": [
    {
     "name": "stdout",
     "output_type": "stream",
     "text": [
      "<class 'pandas.core.frame.DataFrame'>\n",
      "RangeIndex: 21525 entries, 0 to 21524\n",
      "Data columns (total 12 columns):\n",
      " #   Column            Non-Null Count  Dtype \n",
      "---  ------            --------------  ----- \n",
      " 0   children          21525 non-null  int64 \n",
      " 1   days_employed     21525 non-null  int64 \n",
      " 2   dob_years         21525 non-null  int64 \n",
      " 3   education         21525 non-null  object\n",
      " 4   education_id      21525 non-null  int64 \n",
      " 5   family_status     21525 non-null  object\n",
      " 6   family_status_id  21525 non-null  int64 \n",
      " 7   gender            21525 non-null  object\n",
      " 8   income_type       21525 non-null  object\n",
      " 9   debt              21525 non-null  int64 \n",
      " 10  total_income      21525 non-null  int64 \n",
      " 11  purpose           21525 non-null  object\n",
      "dtypes: int64(7), object(5)\n",
      "memory usage: 2.0+ MB\n"
     ]
    }
   ],
   "source": [
    "data['total_income'] = data['total_income'].astype(int)\n",
    "data['days_employed'] = data['days_employed'].astype(int)\n",
    "data.info()\n",
    "#display(data.head(10))"
   ]
  },
  {
   "cell_type": "markdown",
   "metadata": {},
   "source": [
    "### Шаг 2.4. Удаление дубликатов."
   ]
  },
  {
   "cell_type": "code",
   "execution_count": 9,
   "id": "3f2484f2",
   "metadata": {
    "scrolled": false
   },
   "outputs": [
    {
     "data": {
      "text/plain": [
       "54"
      ]
     },
     "execution_count": 9,
     "metadata": {},
     "output_type": "execute_result"
    }
   ],
   "source": [
    "# найдем кол-во строк-дубликатов \n",
    "data.duplicated().sum()\n",
    "#duplicated_data = data[data.duplicated()]\n",
    "#display(duplicated_data)"
   ]
  },
  {
   "cell_type": "code",
   "execution_count": 10,
   "id": "3f2afcfe",
   "metadata": {},
   "outputs": [
    {
     "data": {
      "text/plain": [
       "0"
      ]
     },
     "execution_count": 10,
     "metadata": {},
     "output_type": "execute_result"
    }
   ],
   "source": [
    "#удаленние строк дубликатов\n",
    "data = data.drop_duplicates().reset_index(drop = True) #удаление строк дубликатовб создание новой индексации и удаление старой\n",
    "data.duplicated().sum()\n",
    "#duplicated_data_new = data[data.duplicated()] #проверка/поиск дубликотов после удаления\n",
    "#display(duplicated_data_new)"
   ]
  },
  {
   "cell_type": "code",
   "execution_count": 11,
   "id": "61888b7a",
   "metadata": {},
   "outputs": [
    {
     "data": {
      "text/plain": [
       "array(['высшее', 'среднее', 'Среднее', 'СРЕДНЕЕ', 'ВЫСШЕЕ',\n",
       "       'неоконченное высшее', 'начальное', 'Высшее',\n",
       "       'НЕОКОНЧЕННОЕ ВЫСШЕЕ', 'Неоконченное высшее', 'НАЧАЛЬНОЕ',\n",
       "       'Начальное', 'Ученая степень', 'УЧЕНАЯ СТЕПЕНЬ', 'ученая степень'],\n",
       "      dtype=object)"
      ]
     },
     "execution_count": 11,
     "metadata": {},
     "output_type": "execute_result"
    }
   ],
   "source": [
    "# поиск неявных дубликотов в столбце education\n",
    "data['education'].unique()"
   ]
  },
  {
   "cell_type": "code",
   "execution_count": 12,
   "id": "559e35de",
   "metadata": {},
   "outputs": [
    {
     "data": {
      "text/plain": [
       "array(['высшее', 'среднее', 'неоконченное высшее', 'начальное',\n",
       "       'ученая степень'], dtype=object)"
      ]
     },
     "execution_count": 12,
     "metadata": {},
     "output_type": "execute_result"
    }
   ],
   "source": [
    "data['education'] = data['education'].str.lower() \n",
    "data['education'].unique()\n",
    "#display(data.head(30)) "
   ]
  },
  {
   "cell_type": "markdown",
   "metadata": {},
   "source": [
    "### Шаг 2.5. Формирование дополнительных датафреймов словарей, декомпозиция исходного датафрейма."
   ]
  },
  {
   "cell_type": "code",
   "execution_count": 13,
   "id": "030b2c5d",
   "metadata": {},
   "outputs": [
    {
     "data": {
      "text/html": [
       "<div>\n",
       "<style scoped>\n",
       "    .dataframe tbody tr th:only-of-type {\n",
       "        vertical-align: middle;\n",
       "    }\n",
       "\n",
       "    .dataframe tbody tr th {\n",
       "        vertical-align: top;\n",
       "    }\n",
       "\n",
       "    .dataframe thead th {\n",
       "        text-align: right;\n",
       "    }\n",
       "</style>\n",
       "<table border=\"1\" class=\"dataframe\">\n",
       "  <thead>\n",
       "    <tr style=\"text-align: right;\">\n",
       "      <th></th>\n",
       "      <th>education</th>\n",
       "      <th>education_id</th>\n",
       "    </tr>\n",
       "  </thead>\n",
       "  <tbody>\n",
       "    <tr>\n",
       "      <th>0</th>\n",
       "      <td>высшее</td>\n",
       "      <td>0</td>\n",
       "    </tr>\n",
       "    <tr>\n",
       "      <th>1</th>\n",
       "      <td>среднее</td>\n",
       "      <td>1</td>\n",
       "    </tr>\n",
       "    <tr>\n",
       "      <th>2</th>\n",
       "      <td>неоконченное высшее</td>\n",
       "      <td>2</td>\n",
       "    </tr>\n",
       "    <tr>\n",
       "      <th>3</th>\n",
       "      <td>начальное</td>\n",
       "      <td>3</td>\n",
       "    </tr>\n",
       "    <tr>\n",
       "      <th>4</th>\n",
       "      <td>ученая степень</td>\n",
       "      <td>4</td>\n",
       "    </tr>\n",
       "  </tbody>\n",
       "</table>\n",
       "</div>"
      ],
      "text/plain": [
       "             education  education_id\n",
       "0               высшее             0\n",
       "1              среднее             1\n",
       "2  неоконченное высшее             2\n",
       "3            начальное             3\n",
       "4       ученая степень             4"
      ]
     },
     "metadata": {},
     "output_type": "display_data"
    },
    {
     "data": {
      "text/html": [
       "<div>\n",
       "<style scoped>\n",
       "    .dataframe tbody tr th:only-of-type {\n",
       "        vertical-align: middle;\n",
       "    }\n",
       "\n",
       "    .dataframe tbody tr th {\n",
       "        vertical-align: top;\n",
       "    }\n",
       "\n",
       "    .dataframe thead th {\n",
       "        text-align: right;\n",
       "    }\n",
       "</style>\n",
       "<table border=\"1\" class=\"dataframe\">\n",
       "  <thead>\n",
       "    <tr style=\"text-align: right;\">\n",
       "      <th></th>\n",
       "      <th>family_status</th>\n",
       "      <th>family_status_id</th>\n",
       "    </tr>\n",
       "  </thead>\n",
       "  <tbody>\n",
       "    <tr>\n",
       "      <th>0</th>\n",
       "      <td>женат / замужем</td>\n",
       "      <td>0</td>\n",
       "    </tr>\n",
       "    <tr>\n",
       "      <th>1</th>\n",
       "      <td>гражданский брак</td>\n",
       "      <td>1</td>\n",
       "    </tr>\n",
       "    <tr>\n",
       "      <th>2</th>\n",
       "      <td>вдовец / вдова</td>\n",
       "      <td>2</td>\n",
       "    </tr>\n",
       "    <tr>\n",
       "      <th>3</th>\n",
       "      <td>в разводе</td>\n",
       "      <td>3</td>\n",
       "    </tr>\n",
       "    <tr>\n",
       "      <th>4</th>\n",
       "      <td>Не женат / не замужем</td>\n",
       "      <td>4</td>\n",
       "    </tr>\n",
       "  </tbody>\n",
       "</table>\n",
       "</div>"
      ],
      "text/plain": [
       "           family_status  family_status_id\n",
       "0        женат / замужем                 0\n",
       "1       гражданский брак                 1\n",
       "2         вдовец / вдова                 2\n",
       "3              в разводе                 3\n",
       "4  Не женат / не замужем                 4"
      ]
     },
     "metadata": {},
     "output_type": "display_data"
    }
   ],
   "source": [
    "new_df_education = data[['education', 'education_id']]\n",
    "new_df_family_status = data[['family_status', 'family_status_id']]\n",
    "\n",
    "new_df_education =  data[['education', 'education_id']].drop_duplicates().reset_index(drop = True) \n",
    "#удаление строк дубликатовб создание новой индексации и удаление старой\n",
    "new_df_family_status =  data[['family_status', 'family_status_id']].drop_duplicates().reset_index(drop = True) \n",
    "data.duplicated().sum()\n",
    "\n",
    "display(new_df_education.head())\n",
    "display(new_df_family_status.head())"
   ]
  },
  {
   "cell_type": "code",
   "execution_count": 14,
   "id": "c22da35a",
   "metadata": {},
   "outputs": [
    {
     "data": {
      "text/html": [
       "<div>\n",
       "<style scoped>\n",
       "    .dataframe tbody tr th:only-of-type {\n",
       "        vertical-align: middle;\n",
       "    }\n",
       "\n",
       "    .dataframe tbody tr th {\n",
       "        vertical-align: top;\n",
       "    }\n",
       "\n",
       "    .dataframe thead th {\n",
       "        text-align: right;\n",
       "    }\n",
       "</style>\n",
       "<table border=\"1\" class=\"dataframe\">\n",
       "  <thead>\n",
       "    <tr style=\"text-align: right;\">\n",
       "      <th></th>\n",
       "      <th>children</th>\n",
       "      <th>days_employed</th>\n",
       "      <th>dob_years</th>\n",
       "      <th>education_id</th>\n",
       "      <th>family_status_id</th>\n",
       "      <th>gender</th>\n",
       "      <th>income_type</th>\n",
       "      <th>debt</th>\n",
       "      <th>total_income</th>\n",
       "      <th>purpose</th>\n",
       "    </tr>\n",
       "  </thead>\n",
       "  <tbody>\n",
       "    <tr>\n",
       "      <th>0</th>\n",
       "      <td>1</td>\n",
       "      <td>8437</td>\n",
       "      <td>42</td>\n",
       "      <td>0</td>\n",
       "      <td>0</td>\n",
       "      <td>F</td>\n",
       "      <td>сотрудник</td>\n",
       "      <td>0</td>\n",
       "      <td>253875</td>\n",
       "      <td>покупка жилья</td>\n",
       "    </tr>\n",
       "    <tr>\n",
       "      <th>1</th>\n",
       "      <td>1</td>\n",
       "      <td>4024</td>\n",
       "      <td>36</td>\n",
       "      <td>1</td>\n",
       "      <td>0</td>\n",
       "      <td>F</td>\n",
       "      <td>сотрудник</td>\n",
       "      <td>0</td>\n",
       "      <td>112080</td>\n",
       "      <td>приобретение автомобиля</td>\n",
       "    </tr>\n",
       "    <tr>\n",
       "      <th>2</th>\n",
       "      <td>0</td>\n",
       "      <td>5623</td>\n",
       "      <td>33</td>\n",
       "      <td>1</td>\n",
       "      <td>0</td>\n",
       "      <td>M</td>\n",
       "      <td>сотрудник</td>\n",
       "      <td>0</td>\n",
       "      <td>145885</td>\n",
       "      <td>покупка жилья</td>\n",
       "    </tr>\n",
       "    <tr>\n",
       "      <th>3</th>\n",
       "      <td>3</td>\n",
       "      <td>4124</td>\n",
       "      <td>32</td>\n",
       "      <td>1</td>\n",
       "      <td>0</td>\n",
       "      <td>M</td>\n",
       "      <td>сотрудник</td>\n",
       "      <td>0</td>\n",
       "      <td>267628</td>\n",
       "      <td>дополнительное образование</td>\n",
       "    </tr>\n",
       "    <tr>\n",
       "      <th>4</th>\n",
       "      <td>0</td>\n",
       "      <td>340266</td>\n",
       "      <td>53</td>\n",
       "      <td>1</td>\n",
       "      <td>1</td>\n",
       "      <td>F</td>\n",
       "      <td>пенсионер</td>\n",
       "      <td>0</td>\n",
       "      <td>158616</td>\n",
       "      <td>сыграть свадьбу</td>\n",
       "    </tr>\n",
       "    <tr>\n",
       "      <th>...</th>\n",
       "      <td>...</td>\n",
       "      <td>...</td>\n",
       "      <td>...</td>\n",
       "      <td>...</td>\n",
       "      <td>...</td>\n",
       "      <td>...</td>\n",
       "      <td>...</td>\n",
       "      <td>...</td>\n",
       "      <td>...</td>\n",
       "      <td>...</td>\n",
       "    </tr>\n",
       "    <tr>\n",
       "      <th>21466</th>\n",
       "      <td>1</td>\n",
       "      <td>4529</td>\n",
       "      <td>43</td>\n",
       "      <td>1</td>\n",
       "      <td>1</td>\n",
       "      <td>F</td>\n",
       "      <td>компаньон</td>\n",
       "      <td>0</td>\n",
       "      <td>224791</td>\n",
       "      <td>операции с жильем</td>\n",
       "    </tr>\n",
       "    <tr>\n",
       "      <th>21467</th>\n",
       "      <td>0</td>\n",
       "      <td>343937</td>\n",
       "      <td>67</td>\n",
       "      <td>1</td>\n",
       "      <td>0</td>\n",
       "      <td>F</td>\n",
       "      <td>пенсионер</td>\n",
       "      <td>0</td>\n",
       "      <td>155999</td>\n",
       "      <td>сделка с автомобилем</td>\n",
       "    </tr>\n",
       "    <tr>\n",
       "      <th>21468</th>\n",
       "      <td>1</td>\n",
       "      <td>2113</td>\n",
       "      <td>38</td>\n",
       "      <td>1</td>\n",
       "      <td>1</td>\n",
       "      <td>M</td>\n",
       "      <td>сотрудник</td>\n",
       "      <td>1</td>\n",
       "      <td>89672</td>\n",
       "      <td>недвижимость</td>\n",
       "    </tr>\n",
       "    <tr>\n",
       "      <th>21469</th>\n",
       "      <td>3</td>\n",
       "      <td>3112</td>\n",
       "      <td>38</td>\n",
       "      <td>1</td>\n",
       "      <td>0</td>\n",
       "      <td>M</td>\n",
       "      <td>сотрудник</td>\n",
       "      <td>1</td>\n",
       "      <td>244093</td>\n",
       "      <td>на покупку своего автомобиля</td>\n",
       "    </tr>\n",
       "    <tr>\n",
       "      <th>21470</th>\n",
       "      <td>2</td>\n",
       "      <td>1984</td>\n",
       "      <td>40</td>\n",
       "      <td>1</td>\n",
       "      <td>0</td>\n",
       "      <td>F</td>\n",
       "      <td>сотрудник</td>\n",
       "      <td>0</td>\n",
       "      <td>82047</td>\n",
       "      <td>на покупку автомобиля</td>\n",
       "    </tr>\n",
       "  </tbody>\n",
       "</table>\n",
       "<p>21471 rows × 10 columns</p>\n",
       "</div>"
      ],
      "text/plain": [
       "       children  days_employed  dob_years  education_id  family_status_id  \\\n",
       "0             1           8437         42             0                 0   \n",
       "1             1           4024         36             1                 0   \n",
       "2             0           5623         33             1                 0   \n",
       "3             3           4124         32             1                 0   \n",
       "4             0         340266         53             1                 1   \n",
       "...         ...            ...        ...           ...               ...   \n",
       "21466         1           4529         43             1                 1   \n",
       "21467         0         343937         67             1                 0   \n",
       "21468         1           2113         38             1                 1   \n",
       "21469         3           3112         38             1                 0   \n",
       "21470         2           1984         40             1                 0   \n",
       "\n",
       "      gender income_type  debt  total_income                       purpose  \n",
       "0          F   сотрудник     0        253875                 покупка жилья  \n",
       "1          F   сотрудник     0        112080       приобретение автомобиля  \n",
       "2          M   сотрудник     0        145885                 покупка жилья  \n",
       "3          M   сотрудник     0        267628    дополнительное образование  \n",
       "4          F   пенсионер     0        158616               сыграть свадьбу  \n",
       "...      ...         ...   ...           ...                           ...  \n",
       "21466      F   компаньон     0        224791             операции с жильем  \n",
       "21467      F   пенсионер     0        155999          сделка с автомобилем  \n",
       "21468      M   сотрудник     1         89672                  недвижимость  \n",
       "21469      M   сотрудник     1        244093  на покупку своего автомобиля  \n",
       "21470      F   сотрудник     0         82047         на покупку автомобиля  \n",
       "\n",
       "[21471 rows x 10 columns]"
      ]
     },
     "metadata": {},
     "output_type": "display_data"
    }
   ],
   "source": [
    "#sorted(data)\n",
    "#data = data[['children',\n",
    "# 'days_employed',\n",
    "# 'debt',\n",
    "# 'dob_years',\n",
    "# 'education_id',\n",
    "# 'family_status_id',\n",
    "# 'gender',\n",
    "# 'income_type',\n",
    "# 'purpose',\n",
    "# 'total_income']]\n",
    "data.drop(columns = ['education'], axis = 1, inplace=True)\n",
    "data.drop(columns = ['family_status'], axis = 1, inplace=True)\n",
    "display(data)\n",
    "#data.drop('education', axis=1) еще один метод исключения столбца из нового датафрейма\n"
   ]
  },
  {
   "cell_type": "markdown",
   "metadata": {},
   "source": [
    "### Шаг 2.6. Категоризация дохода."
   ]
  },
  {
   "cell_type": "code",
   "execution_count": 15,
   "id": "971eeed8",
   "metadata": {},
   "outputs": [
    {
     "data": {
      "text/plain": [
       "C    16033\n",
       "B     5041\n",
       "D      350\n",
       "A       25\n",
       "E       22\n",
       "Name: total_income_category, dtype: int64"
      ]
     },
     "execution_count": 15,
     "metadata": {},
     "output_type": "execute_result"
    }
   ],
   "source": [
    "#data['total_income_category'] \n",
    "def categorize_income(income_value):\n",
    "    if income_value <= 30000:\n",
    "        return 'E'\n",
    "    elif income_value <= 50000:\n",
    "        return 'D'\n",
    "    elif income_value <= 200000:\n",
    "        return 'C'\n",
    "    elif income_value <= 1000000:\n",
    "        return 'B'\n",
    "    else:\n",
    "        return 'A'\n",
    "\n",
    "data['total_income_category'] = data['total_income'].apply(categorize_income)\n",
    "data['total_income_category'].value_counts()\n"
   ]
  },
  {
   "cell_type": "markdown",
   "metadata": {},
   "source": [
    "### Шаг 2.7. Категоризация целей кредита."
   ]
  },
  {
   "cell_type": "code",
   "execution_count": 16,
   "id": "c9459ac3",
   "metadata": {},
   "outputs": [
    {
     "data": {
      "text/plain": [
       "операции с недвижимостью    10814\n",
       "операции с автомобилем       4308\n",
       "получение образования        4014\n",
       "проведение свадьбы           2335\n",
       "Name: purpose_category, dtype: int64"
      ]
     },
     "execution_count": 16,
     "metadata": {},
     "output_type": "execute_result"
    }
   ],
   "source": [
    "def categorize_purpose(purpose):\n",
    "    if 'автомобил' in purpose:\n",
    "        return 'операции с автомобилем'\n",
    "    if 'образован' in purpose:\n",
    "        return 'получение образования'\n",
    "    if 'свадьб' in purpose:\n",
    "        return 'проведение свадьбы'\n",
    "    if 'жил' in purpose or 'недвиж' in purpose:\n",
    "        return 'операции с недвижимостью' \n",
    "data['purpose_category'] = data['purpose'].apply(categorize_purpose)\n",
    "data['purpose_category'].value_counts()\n"
   ]
  },
  {
   "cell_type": "markdown",
   "metadata": {},
   "source": [
    "### Ответы на вопросы."
   ]
  },
  {
   "cell_type": "markdown",
   "metadata": {},
   "source": [
    "##### Вопрос 1:"
   ]
  },
  {
   "cell_type": "markdown",
   "metadata": {},
   "source": [
    "Есть ли зависимость между количеством детей и возвратом кредита в срок?"
   ]
  },
  {
   "cell_type": "code",
   "execution_count": 17,
   "id": "ff57420f",
   "metadata": {},
   "outputs": [
    {
     "data": {
      "text/html": [
       "<div>\n",
       "<style scoped>\n",
       "    .dataframe tbody tr th:only-of-type {\n",
       "        vertical-align: middle;\n",
       "    }\n",
       "\n",
       "    .dataframe tbody tr th {\n",
       "        vertical-align: top;\n",
       "    }\n",
       "\n",
       "    .dataframe thead th {\n",
       "        text-align: right;\n",
       "    }\n",
       "</style>\n",
       "<table border=\"1\" class=\"dataframe\">\n",
       "  <thead>\n",
       "    <tr style=\"text-align: right;\">\n",
       "      <th></th>\n",
       "      <th>sum_children</th>\n",
       "      <th>count_children</th>\n",
       "      <th>results_children</th>\n",
       "    </tr>\n",
       "    <tr>\n",
       "      <th>children</th>\n",
       "      <th></th>\n",
       "      <th></th>\n",
       "      <th></th>\n",
       "    </tr>\n",
       "  </thead>\n",
       "  <tbody>\n",
       "    <tr>\n",
       "      <th>0</th>\n",
       "      <td>1063</td>\n",
       "      <td>14107</td>\n",
       "      <td>7.535266</td>\n",
       "    </tr>\n",
       "    <tr>\n",
       "      <th>1</th>\n",
       "      <td>445</td>\n",
       "      <td>4856</td>\n",
       "      <td>9.163921</td>\n",
       "    </tr>\n",
       "    <tr>\n",
       "      <th>2</th>\n",
       "      <td>202</td>\n",
       "      <td>2128</td>\n",
       "      <td>9.492481</td>\n",
       "    </tr>\n",
       "    <tr>\n",
       "      <th>3</th>\n",
       "      <td>27</td>\n",
       "      <td>330</td>\n",
       "      <td>8.181818</td>\n",
       "    </tr>\n",
       "    <tr>\n",
       "      <th>4</th>\n",
       "      <td>4</td>\n",
       "      <td>41</td>\n",
       "      <td>9.756098</td>\n",
       "    </tr>\n",
       "    <tr>\n",
       "      <th>5</th>\n",
       "      <td>0</td>\n",
       "      <td>9</td>\n",
       "      <td>0.000000</td>\n",
       "    </tr>\n",
       "  </tbody>\n",
       "</table>\n",
       "</div>"
      ],
      "text/plain": [
       "          sum_children  count_children  results_children\n",
       "children                                                \n",
       "0                 1063           14107          7.535266\n",
       "1                  445            4856          9.163921\n",
       "2                  202            2128          9.492481\n",
       "3                   27             330          8.181818\n",
       "4                    4              41          9.756098\n",
       "5                    0               9          0.000000"
      ]
     },
     "metadata": {},
     "output_type": "display_data"
    },
    {
     "data": {
      "text/html": [
       "<div>\n",
       "<style scoped>\n",
       "    .dataframe tbody tr th:only-of-type {\n",
       "        vertical-align: middle;\n",
       "    }\n",
       "\n",
       "    .dataframe tbody tr th {\n",
       "        vertical-align: top;\n",
       "    }\n",
       "\n",
       "    .dataframe thead th {\n",
       "        text-align: right;\n",
       "    }\n",
       "</style>\n",
       "<table border=\"1\" class=\"dataframe\">\n",
       "  <thead>\n",
       "    <tr style=\"text-align: right;\">\n",
       "      <th></th>\n",
       "      <th>debt</th>\n",
       "      <th>children</th>\n",
       "    </tr>\n",
       "  </thead>\n",
       "  <tbody>\n",
       "    <tr>\n",
       "      <th>debt</th>\n",
       "      <td>1.000000</td>\n",
       "      <td>0.024812</td>\n",
       "    </tr>\n",
       "    <tr>\n",
       "      <th>children</th>\n",
       "      <td>0.024812</td>\n",
       "      <td>1.000000</td>\n",
       "    </tr>\n",
       "  </tbody>\n",
       "</table>\n",
       "</div>"
      ],
      "text/plain": [
       "              debt  children\n",
       "debt      1.000000  0.024812\n",
       "children  0.024812  1.000000"
      ]
     },
     "execution_count": 17,
     "metadata": {},
     "output_type": "execute_result"
    }
   ],
   "source": [
    "df_children = pd.DataFrame()\n",
    "df_children['sum_children'] = data.groupby('children')['debt'].sum()\n",
    "df_children['count_children'] = data.groupby('children')['debt'].count()\n",
    "df_children['results_children'] = df_children['sum_children']/df_children['count_children']*100\n",
    "df_children.sort_values('results_children', ascending =False)\n",
    "display(df_children)\n",
    "\n",
    "correcaltion_children = pd.DataFrame()\n",
    "correcaltion_children['debt'] = data['debt']\n",
    "correcaltion_children['children'] = data['children']\n",
    "\n",
    "correcaltion_children.corr()"
   ]
  },
  {
   "cell_type": "markdown",
   "metadata": {},
   "source": [
    "Вывод:  Данная зависимость показывает, что клиенты без детей отвественнее всего подходят к выплате кредита в срок, впринципе, в этом есть логика, так как у них меньше ежемесячных затрат. На втором месте расположились клиенты с 3-я детьми, мои предположения в том, что семьи с 3-я детьми более отвественны, чем семьи с 1-2 детьми, так как им наверняка потребуется хорошая кредитная история для будущих кредитов, например для детей. На 3 ,4 и 5 местах расположились семьи с 1-м, 2-я и 4-я детьм соотвественно, опираясь на логику описанную в предидущем предложении, могу предположить, что семьи с 1-м и 2-я детьми берут кредит одноразово, поэтому не так сильно ориентируются на срок выплат. "
   ]
  },
  {
   "cell_type": "markdown",
   "metadata": {},
   "source": [
    "Вопрос 2- Есть ли зависимость между семейным положением и возвратом кредита в срок?"
   ]
  },
  {
   "cell_type": "code",
   "execution_count": 18,
   "id": "96c165e0",
   "metadata": {},
   "outputs": [
    {
     "data": {
      "text/html": [
       "<div>\n",
       "<style scoped>\n",
       "    .dataframe tbody tr th:only-of-type {\n",
       "        vertical-align: middle;\n",
       "    }\n",
       "\n",
       "    .dataframe tbody tr th {\n",
       "        vertical-align: top;\n",
       "    }\n",
       "\n",
       "    .dataframe thead th {\n",
       "        text-align: right;\n",
       "    }\n",
       "</style>\n",
       "<table border=\"1\" class=\"dataframe\">\n",
       "  <thead>\n",
       "    <tr style=\"text-align: right;\">\n",
       "      <th></th>\n",
       "      <th>family_status_count</th>\n",
       "      <th>family_status_sum</th>\n",
       "      <th>results_family_status</th>\n",
       "    </tr>\n",
       "    <tr>\n",
       "      <th>family_status_id</th>\n",
       "      <th></th>\n",
       "      <th></th>\n",
       "      <th></th>\n",
       "    </tr>\n",
       "  </thead>\n",
       "  <tbody>\n",
       "    <tr>\n",
       "      <th>0</th>\n",
       "      <td>12344</td>\n",
       "      <td>931</td>\n",
       "      <td>7.542126</td>\n",
       "    </tr>\n",
       "    <tr>\n",
       "      <th>1</th>\n",
       "      <td>4163</td>\n",
       "      <td>388</td>\n",
       "      <td>9.320202</td>\n",
       "    </tr>\n",
       "    <tr>\n",
       "      <th>2</th>\n",
       "      <td>959</td>\n",
       "      <td>63</td>\n",
       "      <td>6.569343</td>\n",
       "    </tr>\n",
       "    <tr>\n",
       "      <th>3</th>\n",
       "      <td>1195</td>\n",
       "      <td>85</td>\n",
       "      <td>7.112971</td>\n",
       "    </tr>\n",
       "    <tr>\n",
       "      <th>4</th>\n",
       "      <td>2810</td>\n",
       "      <td>274</td>\n",
       "      <td>9.750890</td>\n",
       "    </tr>\n",
       "  </tbody>\n",
       "</table>\n",
       "</div>"
      ],
      "text/plain": [
       "                  family_status_count  family_status_sum  \\\n",
       "family_status_id                                           \n",
       "0                               12344                931   \n",
       "1                                4163                388   \n",
       "2                                 959                 63   \n",
       "3                                1195                 85   \n",
       "4                                2810                274   \n",
       "\n",
       "                  results_family_status  \n",
       "family_status_id                         \n",
       "0                              7.542126  \n",
       "1                              9.320202  \n",
       "2                              6.569343  \n",
       "3                              7.112971  \n",
       "4                              9.750890  "
      ]
     },
     "metadata": {},
     "output_type": "display_data"
    }
   ],
   "source": [
    "#df = data.groupby('family_status_id', as_index=False).debt.mean()\n",
    "df_family = pd.DataFrame()\n",
    "df_family['family_status_count'] = data.groupby('family_status_id')['debt'].count()\n",
    "df_family['family_status_sum'] = data.groupby('family_status_id')['debt'].sum()\n",
    "df_family['results_family_status'] = df_family['family_status_sum']/df_family['family_status_count']*100\n",
    "df_family.sort_values('results_family_status', ascending = False)\n",
    "display(df_family)\n",
    "\n",
    "\n",
    "#family_status_id(0) = женат / замужем\n",
    "#family_status_id(1) = гражданский брак\n",
    "#family_status_id(2) = вдовец / вдова\n",
    "#family_status_id(3) = в разводе\n",
    "#family_status_id(4) = Не женат / не замужем"
   ]
  },
  {
   "cell_type": "markdown",
   "metadata": {},
   "source": [
    "Вывод:  Данные показывают, что при семейном положении \"Не женат / не замужем\" вероятность невозврата кредита самая высокая,\n",
    "тогда как при семейном положении \"вдовец / вдова\" вероятность невозврата кредита самая низкая. Разница между минимальным значением 6.56% и максимальным 9.75% составляет 32,6% процентов."
   ]
  },
  {
   "cell_type": "markdown",
   "metadata": {},
   "source": [
    "Вопрос 3- Есть ли зависимость между уровнем дохода и возвратом кредита в срок?"
   ]
  },
  {
   "cell_type": "code",
   "execution_count": 26,
   "id": "b7f14cc5",
   "metadata": {},
   "outputs": [
    {
     "data": {
      "text/html": [
       "<div>\n",
       "<style scoped>\n",
       "    .dataframe tbody tr th:only-of-type {\n",
       "        vertical-align: middle;\n",
       "    }\n",
       "\n",
       "    .dataframe tbody tr th {\n",
       "        vertical-align: top;\n",
       "    }\n",
       "\n",
       "    .dataframe thead th {\n",
       "        text-align: right;\n",
       "    }\n",
       "</style>\n",
       "<table border=\"1\" class=\"dataframe\">\n",
       "  <thead>\n",
       "    <tr style=\"text-align: right;\">\n",
       "      <th></th>\n",
       "      <th>sum</th>\n",
       "      <th>count</th>\n",
       "      <th>conversion</th>\n",
       "    </tr>\n",
       "    <tr>\n",
       "      <th>total_income_category</th>\n",
       "      <th></th>\n",
       "      <th></th>\n",
       "      <th></th>\n",
       "    </tr>\n",
       "  </thead>\n",
       "  <tbody>\n",
       "    <tr>\n",
       "      <th>A</th>\n",
       "      <td>2</td>\n",
       "      <td>25</td>\n",
       "      <td>8.000000</td>\n",
       "    </tr>\n",
       "    <tr>\n",
       "      <th>B</th>\n",
       "      <td>356</td>\n",
       "      <td>5041</td>\n",
       "      <td>7.062091</td>\n",
       "    </tr>\n",
       "    <tr>\n",
       "      <th>C</th>\n",
       "      <td>1360</td>\n",
       "      <td>16033</td>\n",
       "      <td>8.482505</td>\n",
       "    </tr>\n",
       "    <tr>\n",
       "      <th>D</th>\n",
       "      <td>21</td>\n",
       "      <td>350</td>\n",
       "      <td>6.000000</td>\n",
       "    </tr>\n",
       "    <tr>\n",
       "      <th>E</th>\n",
       "      <td>2</td>\n",
       "      <td>22</td>\n",
       "      <td>9.090909</td>\n",
       "    </tr>\n",
       "  </tbody>\n",
       "</table>\n",
       "</div>"
      ],
      "text/plain": [
       "                        sum  count  conversion\n",
       "total_income_category                         \n",
       "A                         2     25    8.000000\n",
       "B                       356   5041    7.062091\n",
       "C                      1360  16033    8.482505\n",
       "D                        21    350    6.000000\n",
       "E                         2     22    9.090909"
      ]
     },
     "metadata": {},
     "output_type": "display_data"
    },
    {
     "data": {
      "text/plain": [
       "0        B\n",
       "1        C\n",
       "2        C\n",
       "3        B\n",
       "4        C\n",
       "        ..\n",
       "21466    B\n",
       "21467    C\n",
       "21468    C\n",
       "21469    B\n",
       "21470    C\n",
       "Name: total_income_category, Length: 21471, dtype: object"
      ]
     },
     "metadata": {},
     "output_type": "display_data"
    },
    {
     "data": {
      "text/html": [
       "<div>\n",
       "<style scoped>\n",
       "    .dataframe tbody tr th:only-of-type {\n",
       "        vertical-align: middle;\n",
       "    }\n",
       "\n",
       "    .dataframe tbody tr th {\n",
       "        vertical-align: top;\n",
       "    }\n",
       "\n",
       "    .dataframe thead th {\n",
       "        text-align: right;\n",
       "    }\n",
       "</style>\n",
       "<table border=\"1\" class=\"dataframe\">\n",
       "  <thead>\n",
       "    <tr style=\"text-align: right;\">\n",
       "      <th></th>\n",
       "      <th>total_income</th>\n",
       "      <th>debt</th>\n",
       "    </tr>\n",
       "  </thead>\n",
       "  <tbody>\n",
       "    <tr>\n",
       "      <th>total_income</th>\n",
       "      <td>1.000000</td>\n",
       "      <td>-0.011748</td>\n",
       "    </tr>\n",
       "    <tr>\n",
       "      <th>debt</th>\n",
       "      <td>-0.011748</td>\n",
       "      <td>1.000000</td>\n",
       "    </tr>\n",
       "  </tbody>\n",
       "</table>\n",
       "</div>"
      ],
      "text/plain": [
       "              total_income      debt\n",
       "total_income      1.000000 -0.011748\n",
       "debt             -0.011748  1.000000"
      ]
     },
     "execution_count": 26,
     "metadata": {},
     "output_type": "execute_result"
    }
   ],
   "source": [
    "#data['total_income_category'] = data['total_income'].apply(total_income_category)\n",
    "#data['total_income_category'].value_counts()\n",
    "debt_from_total_income = pd.DataFrame()\n",
    "debt_from_total_income['sum'] = data.groupby('total_income_category')['debt'].sum()\n",
    "debt_from_total_income['count'] = data.groupby('total_income_category')['debt'].count()\n",
    "debt_from_total_income['conversion'] = debt_from_total_income['sum'] / debt_from_total_income['count']*100\n",
    "debt_from_total_income.sort_values('conversion', ascending = False)\n",
    "display(debt_from_total_income)\n",
    "display(data['total_income_category'])\n",
    "verification_through_correlation = pd.DataFrame()\n",
    "verification_through_correlation['total_income'] = data['total_income']\n",
    "verification_through_correlation['debt'] = data['debt']\n",
    "verification_through_correlation.corr(\n"
   ]
  },
  {
   "cell_type": "markdown",
   "metadata": {},
   "source": [
    "Категоризовав уровень дохода на 5 категорий в результате видим, что зависимость между уровнем дохода и возвратом кредита в срок не наблюдается. Но несмотря на то, что имеется 5 категирий, две выборки: В(до 1000000) и С(до 200000) заметно превышают по кол-ву остальные, если судить только по этим самым большим выборкам, то при большем доходе (категория В) существует меньший процент по невозврату кредита в срок, чем при меньшем доходе (категирия С)."
   ]
  },
  {
   "cell_type": "markdown",
   "metadata": {},
   "source": [
    "Вопрос 4 - Как разные цели кредита влияют на его возврат в срок?"
   ]
  },
  {
   "cell_type": "code",
   "execution_count": null,
   "id": "bb6b30e8",
   "metadata": {},
   "outputs": [],
   "source": [
    "df_purpose = pd.DataFrame()\n",
    "df_purpose['sum_income'] = data.groupby('purpose_category')['debt'].sum()\n",
    "df_purpose['count_income'] = data.groupby('purpose_category')['debt'].count()\n",
    "df_purpose['results_income'] = df_purpose['sum_income']/df_purpose['count_income'] \n",
    "df_purpose.sort_values('results_income', ascending =False)\n",
    "display(df_purpose)\n",
    "#data.groupby('purpose_category')['debt'].mean() \n"
   ]
  },
  {
   "cell_type": "markdown",
   "metadata": {},
   "source": [
    "Зависимость между разными целями кредита и возвратом его в срок следущая: процент ненадежных заемщиков в операциях с недвижимостью самый минимальный из включенных категорий, тогда как максимальный процент ненадежных заемщиков находится при операциях с автомобилем. "
   ]
  },
  {
   "cell_type": "markdown",
   "metadata": {},
   "source": [
    "## Общий вывод:"
   ]
  },
  {
   "cell_type": "markdown",
   "metadata": {},
   "source": [
    "В ходе данного исследования мы выяснили:\n",
    "<br>\n",
    "1) что наличие детей увеличивает шансы на возврат кредита в срок. Идеальным клиентом считается: семья с 5-ю детьми. Худшим клиентом является:  семья с (4) - детьми.  \n",
    "<br>\n",
    "2) При семейном положении Не женат / не замужем наблюдается самый высокий процент по невозврату кредита в срок. Идеальным клиентом считается: Вдова/вдовец.\n",
    "<br>\n",
    "3) Сравнив разные категории по уровню З/П, мы видим, что зависимости между уровнем дохода и возвратом кредита в срок не наблюдается. Но несмотря на то, что имеется 5 категирий, две выборки: В(до 1000000) и С(до 200000) заметно превышают по кол-ву остальные, если судить только по этим (самым большим) выборкам, то при большем доходе (категория В) существует меньший процент по невозврату кредита в срок, чем при меньшем доходе (категирия С).\n",
    "<br>\n",
    "4) Максимальный процент ненадежных заемщиков находится при операциях с автомобилем. Идеальным клиентом считается: человек c целью покупки недвижимости.\n",
    "\n",
    "Общий вывод - семейный статус влияет на вероятность платежей по кредиту в срок - люди, бывший в браке чаще плятят в срок чем те, кто не бывали в браке, причем разведенные и овдовевшие платят в срок чаще, чем люди в браке. Чем больше детей, тем чаще платят не в срок, бездетные реже просрачивают оплату.\n",
    " "
   ]
  }
 ],
 "metadata": {
  "ExecuteTimeLog": [
   {
    "duration": 501,
    "start_time": "2022-08-03T18:55:00.060Z"
   },
   {
    "duration": 154,
    "start_time": "2022-08-03T18:57:16.742Z"
   },
   {
    "duration": 22,
    "start_time": "2022-08-03T18:58:02.865Z"
   },
   {
    "duration": 53,
    "start_time": "2022-08-07T20:22:25.869Z"
   },
   {
    "duration": 612,
    "start_time": "2022-08-07T20:22:30.988Z"
   },
   {
    "duration": 30,
    "start_time": "2022-08-07T20:22:35.324Z"
   },
   {
    "duration": 9,
    "start_time": "2022-08-07T20:22:38.844Z"
   },
   {
    "duration": 16,
    "start_time": "2022-08-07T20:23:21.605Z"
   },
   {
    "duration": 4,
    "start_time": "2022-08-07T20:24:56.148Z"
   },
   {
    "duration": 4,
    "start_time": "2022-08-07T20:25:01.432Z"
   },
   {
    "duration": 4,
    "start_time": "2022-08-07T20:25:37.026Z"
   },
   {
    "duration": 38,
    "start_time": "2022-08-07T20:26:08.323Z"
   },
   {
    "duration": 40,
    "start_time": "2022-08-07T20:26:31.592Z"
   },
   {
    "duration": 6,
    "start_time": "2022-08-07T20:27:00.418Z"
   },
   {
    "duration": 25,
    "start_time": "2022-08-07T20:27:23.666Z"
   },
   {
    "duration": 15,
    "start_time": "2022-08-07T20:27:48.631Z"
   },
   {
    "duration": 20,
    "start_time": "2022-08-07T20:28:28.238Z"
   },
   {
    "duration": 11,
    "start_time": "2022-08-07T20:35:54.752Z"
   },
   {
    "duration": 19,
    "start_time": "2022-08-07T20:36:09.704Z"
   },
   {
    "duration": 44,
    "start_time": "2022-08-07T20:44:31.825Z"
   },
   {
    "duration": 12,
    "start_time": "2022-08-07T20:44:40.833Z"
   },
   {
    "duration": 9,
    "start_time": "2022-08-07T20:44:49.916Z"
   },
   {
    "duration": 11,
    "start_time": "2022-08-07T20:45:32.287Z"
   },
   {
    "duration": 21,
    "start_time": "2022-08-07T20:46:03.762Z"
   },
   {
    "duration": 46,
    "start_time": "2022-08-08T20:44:02.948Z"
   },
   {
    "duration": 7,
    "start_time": "2022-08-08T20:44:26.533Z"
   },
   {
    "duration": 6,
    "start_time": "2022-08-08T20:44:36.627Z"
   },
   {
    "duration": 644,
    "start_time": "2022-08-08T20:44:46.657Z"
   },
   {
    "duration": 20,
    "start_time": "2022-08-08T20:44:47.303Z"
   },
   {
    "duration": 13,
    "start_time": "2022-08-08T20:44:47.324Z"
   },
   {
    "duration": 17,
    "start_time": "2022-08-08T20:44:47.339Z"
   },
   {
    "duration": 53,
    "start_time": "2022-08-08T20:44:47.357Z"
   },
   {
    "duration": 28,
    "start_time": "2022-08-08T20:44:47.412Z"
   },
   {
    "duration": 44,
    "start_time": "2022-08-08T20:44:47.441Z"
   },
   {
    "duration": 42,
    "start_time": "2022-08-08T20:44:47.487Z"
   },
   {
    "duration": 4,
    "start_time": "2022-08-08T20:44:47.530Z"
   },
   {
    "duration": 28,
    "start_time": "2022-08-08T20:44:47.536Z"
   },
   {
    "duration": 14,
    "start_time": "2022-08-08T20:44:47.566Z"
   },
   {
    "duration": 28,
    "start_time": "2022-08-08T20:44:47.582Z"
   },
   {
    "duration": 8,
    "start_time": "2022-08-08T20:44:47.612Z"
   },
   {
    "duration": 20,
    "start_time": "2022-08-08T20:44:47.621Z"
   },
   {
    "duration": 11,
    "start_time": "2022-08-08T20:44:47.643Z"
   },
   {
    "duration": 8,
    "start_time": "2022-08-08T20:47:09.395Z"
   },
   {
    "duration": 12,
    "start_time": "2022-08-08T20:49:00.840Z"
   },
   {
    "duration": 9,
    "start_time": "2022-08-08T20:49:27.450Z"
   },
   {
    "duration": 935,
    "start_time": "2022-08-08T20:49:51.385Z"
   },
   {
    "duration": 12,
    "start_time": "2022-08-08T20:50:18.438Z"
   },
   {
    "duration": 1065,
    "start_time": "2022-08-08T20:50:29.965Z"
   },
   {
    "duration": 11,
    "start_time": "2022-08-08T20:50:43.111Z"
   },
   {
    "duration": 14,
    "start_time": "2022-08-08T20:50:56.200Z"
   },
   {
    "duration": 10,
    "start_time": "2022-08-08T20:51:11.399Z"
   },
   {
    "duration": 23,
    "start_time": "2022-08-08T20:52:31.552Z"
   },
   {
    "duration": 21,
    "start_time": "2022-08-08T20:53:11.146Z"
   },
   {
    "duration": 485,
    "start_time": "2022-08-08T21:12:15.261Z"
   },
   {
    "duration": 16,
    "start_time": "2022-08-08T21:13:19.767Z"
   },
   {
    "duration": 12,
    "start_time": "2022-08-08T21:13:37.393Z"
   },
   {
    "duration": 12,
    "start_time": "2022-08-08T21:14:26.759Z"
   },
   {
    "duration": 13,
    "start_time": "2022-08-08T21:14:40.904Z"
   },
   {
    "duration": 14,
    "start_time": "2022-08-08T21:43:17.813Z"
   },
   {
    "duration": 34,
    "start_time": "2022-08-08T21:43:57.095Z"
   },
   {
    "duration": 15,
    "start_time": "2022-08-08T21:49:25.600Z"
   },
   {
    "duration": 12,
    "start_time": "2022-08-08T21:49:46.156Z"
   },
   {
    "duration": 894,
    "start_time": "2022-08-08T21:52:00.558Z"
   },
   {
    "duration": 93,
    "start_time": "2022-08-08T21:52:09.590Z"
   },
   {
    "duration": 30,
    "start_time": "2022-08-08T21:52:09.685Z"
   },
   {
    "duration": 6,
    "start_time": "2022-08-08T21:52:09.717Z"
   },
   {
    "duration": 18,
    "start_time": "2022-08-08T21:52:09.725Z"
   },
   {
    "duration": 13,
    "start_time": "2022-08-08T21:52:09.745Z"
   },
   {
    "duration": 13,
    "start_time": "2022-08-08T21:52:09.760Z"
   },
   {
    "duration": 32,
    "start_time": "2022-08-08T21:52:09.775Z"
   },
   {
    "duration": 39,
    "start_time": "2022-08-08T21:52:09.808Z"
   },
   {
    "duration": 4,
    "start_time": "2022-08-08T21:52:09.849Z"
   },
   {
    "duration": 33,
    "start_time": "2022-08-08T21:52:09.855Z"
   },
   {
    "duration": 29,
    "start_time": "2022-08-08T21:52:09.901Z"
   },
   {
    "duration": 31,
    "start_time": "2022-08-08T21:52:09.932Z"
   },
   {
    "duration": 13,
    "start_time": "2022-08-08T21:52:09.965Z"
   },
   {
    "duration": 63,
    "start_time": "2022-08-08T21:52:09.980Z"
   },
   {
    "duration": 38,
    "start_time": "2022-08-08T21:52:10.045Z"
   },
   {
    "duration": 13,
    "start_time": "2022-08-08T21:52:10.085Z"
   },
   {
    "duration": 53,
    "start_time": "2022-08-08T21:52:10.099Z"
   },
   {
    "duration": 15,
    "start_time": "2022-08-08T22:01:22.725Z"
   },
   {
    "duration": 17,
    "start_time": "2022-08-08T22:02:09.334Z"
   },
   {
    "duration": 16,
    "start_time": "2022-08-08T22:02:30.952Z"
   },
   {
    "duration": 10,
    "start_time": "2022-08-08T22:03:18.823Z"
   },
   {
    "duration": 12,
    "start_time": "2022-08-08T22:04:02.710Z"
   },
   {
    "duration": 14,
    "start_time": "2022-08-08T22:04:39.463Z"
   },
   {
    "duration": 14,
    "start_time": "2022-08-08T22:04:49.379Z"
   },
   {
    "duration": 13,
    "start_time": "2022-08-08T23:28:33.206Z"
   },
   {
    "duration": 12,
    "start_time": "2022-08-08T23:30:24.038Z"
   },
   {
    "duration": 10,
    "start_time": "2022-08-08T23:31:03.443Z"
   },
   {
    "duration": 14,
    "start_time": "2022-08-08T23:31:09.893Z"
   },
   {
    "duration": 12,
    "start_time": "2022-08-08T23:31:35.654Z"
   },
   {
    "duration": 14,
    "start_time": "2022-08-08T23:31:43.884Z"
   },
   {
    "duration": 84,
    "start_time": "2022-08-08T23:31:49.970Z"
   },
   {
    "duration": 16,
    "start_time": "2022-08-08T23:31:50.056Z"
   },
   {
    "duration": 8,
    "start_time": "2022-08-08T23:31:50.074Z"
   },
   {
    "duration": 44,
    "start_time": "2022-08-08T23:31:50.084Z"
   },
   {
    "duration": 6,
    "start_time": "2022-08-08T23:31:50.130Z"
   },
   {
    "duration": 17,
    "start_time": "2022-08-08T23:31:50.138Z"
   },
   {
    "duration": 27,
    "start_time": "2022-08-08T23:31:50.156Z"
   },
   {
    "duration": 35,
    "start_time": "2022-08-08T23:31:50.185Z"
   },
   {
    "duration": 6,
    "start_time": "2022-08-08T23:31:50.222Z"
   },
   {
    "duration": 26,
    "start_time": "2022-08-08T23:31:50.230Z"
   },
   {
    "duration": 17,
    "start_time": "2022-08-08T23:31:50.258Z"
   },
   {
    "duration": 35,
    "start_time": "2022-08-08T23:31:50.277Z"
   },
   {
    "duration": 13,
    "start_time": "2022-08-08T23:31:50.315Z"
   },
   {
    "duration": 18,
    "start_time": "2022-08-08T23:31:50.330Z"
   },
   {
    "duration": 11,
    "start_time": "2022-08-08T23:31:50.350Z"
   },
   {
    "duration": 37,
    "start_time": "2022-08-08T23:31:50.363Z"
   },
   {
    "duration": 51,
    "start_time": "2022-08-08T23:31:50.402Z"
   },
   {
    "duration": 10,
    "start_time": "2022-08-08T23:32:59.724Z"
   },
   {
    "duration": 75,
    "start_time": "2022-08-08T23:33:02.682Z"
   },
   {
    "duration": 15,
    "start_time": "2022-08-08T23:33:02.759Z"
   },
   {
    "duration": 6,
    "start_time": "2022-08-08T23:33:02.776Z"
   },
   {
    "duration": 20,
    "start_time": "2022-08-08T23:33:02.783Z"
   },
   {
    "duration": 9,
    "start_time": "2022-08-08T23:33:02.806Z"
   },
   {
    "duration": 18,
    "start_time": "2022-08-08T23:33:02.817Z"
   },
   {
    "duration": 18,
    "start_time": "2022-08-08T23:33:02.836Z"
   },
   {
    "duration": 34,
    "start_time": "2022-08-08T23:33:02.855Z"
   },
   {
    "duration": 11,
    "start_time": "2022-08-08T23:33:02.891Z"
   },
   {
    "duration": 23,
    "start_time": "2022-08-08T23:33:02.903Z"
   },
   {
    "duration": 13,
    "start_time": "2022-08-08T23:33:02.927Z"
   },
   {
    "duration": 15,
    "start_time": "2022-08-08T23:33:02.941Z"
   },
   {
    "duration": 13,
    "start_time": "2022-08-08T23:33:02.957Z"
   },
   {
    "duration": 42,
    "start_time": "2022-08-08T23:33:02.973Z"
   },
   {
    "duration": 11,
    "start_time": "2022-08-08T23:33:03.016Z"
   },
   {
    "duration": 0,
    "start_time": "2022-08-08T23:33:03.028Z"
   },
   {
    "duration": 0,
    "start_time": "2022-08-08T23:33:03.029Z"
   },
   {
    "duration": 14,
    "start_time": "2022-08-08T23:33:49.351Z"
   },
   {
    "duration": 74,
    "start_time": "2022-08-08T23:33:58.460Z"
   },
   {
    "duration": 17,
    "start_time": "2022-08-08T23:33:58.536Z"
   },
   {
    "duration": 7,
    "start_time": "2022-08-08T23:33:58.555Z"
   },
   {
    "duration": 12,
    "start_time": "2022-08-08T23:33:58.565Z"
   },
   {
    "duration": 3,
    "start_time": "2022-08-08T23:33:58.600Z"
   },
   {
    "duration": 6,
    "start_time": "2022-08-08T23:33:58.605Z"
   },
   {
    "duration": 17,
    "start_time": "2022-08-08T23:33:58.612Z"
   },
   {
    "duration": 32,
    "start_time": "2022-08-08T23:33:58.631Z"
   },
   {
    "duration": 4,
    "start_time": "2022-08-08T23:33:58.664Z"
   },
   {
    "duration": 47,
    "start_time": "2022-08-08T23:33:58.671Z"
   },
   {
    "duration": 11,
    "start_time": "2022-08-08T23:33:58.720Z"
   },
   {
    "duration": 15,
    "start_time": "2022-08-08T23:33:58.732Z"
   },
   {
    "duration": 8,
    "start_time": "2022-08-08T23:33:58.749Z"
   },
   {
    "duration": 43,
    "start_time": "2022-08-08T23:33:58.759Z"
   },
   {
    "duration": 15,
    "start_time": "2022-08-08T23:33:58.803Z"
   },
   {
    "duration": 9,
    "start_time": "2022-08-08T23:33:58.820Z"
   },
   {
    "duration": 0,
    "start_time": "2022-08-08T23:33:58.830Z"
   },
   {
    "duration": 13,
    "start_time": "2022-08-08T23:34:22.635Z"
   },
   {
    "duration": 16,
    "start_time": "2022-08-08T23:34:30.017Z"
   },
   {
    "duration": 14,
    "start_time": "2022-08-08T23:35:08.449Z"
   },
   {
    "duration": 12,
    "start_time": "2022-08-08T23:38:18.401Z"
   },
   {
    "duration": 16,
    "start_time": "2022-08-08T23:40:11.432Z"
   },
   {
    "duration": 13,
    "start_time": "2022-08-08T23:40:36.554Z"
   },
   {
    "duration": 13,
    "start_time": "2022-08-08T23:40:43.932Z"
   },
   {
    "duration": 13,
    "start_time": "2022-08-08T23:41:18.189Z"
   },
   {
    "duration": 12,
    "start_time": "2022-08-08T23:41:41.827Z"
   },
   {
    "duration": 76,
    "start_time": "2022-08-08T23:43:04.090Z"
   },
   {
    "duration": 17,
    "start_time": "2022-08-08T23:43:04.168Z"
   },
   {
    "duration": 30,
    "start_time": "2022-08-08T23:43:04.187Z"
   },
   {
    "duration": 28,
    "start_time": "2022-08-08T23:43:04.219Z"
   },
   {
    "duration": 12,
    "start_time": "2022-08-08T23:43:04.249Z"
   },
   {
    "duration": 24,
    "start_time": "2022-08-08T23:43:04.263Z"
   },
   {
    "duration": 36,
    "start_time": "2022-08-08T23:43:04.288Z"
   },
   {
    "duration": 42,
    "start_time": "2022-08-08T23:43:04.325Z"
   },
   {
    "duration": 5,
    "start_time": "2022-08-08T23:43:04.369Z"
   },
   {
    "duration": 48,
    "start_time": "2022-08-08T23:43:04.375Z"
   },
   {
    "duration": 17,
    "start_time": "2022-08-08T23:43:04.425Z"
   },
   {
    "duration": 17,
    "start_time": "2022-08-08T23:43:04.444Z"
   },
   {
    "duration": 9,
    "start_time": "2022-08-08T23:43:04.462Z"
   },
   {
    "duration": 38,
    "start_time": "2022-08-08T23:43:04.473Z"
   },
   {
    "duration": 12,
    "start_time": "2022-08-08T23:43:04.513Z"
   },
   {
    "duration": 14,
    "start_time": "2022-08-08T23:43:04.526Z"
   },
   {
    "duration": 45,
    "start_time": "2022-08-08T23:43:04.541Z"
   },
   {
    "duration": 14,
    "start_time": "2022-08-08T23:49:52.334Z"
   },
   {
    "duration": 785,
    "start_time": "2022-08-08T23:51:27.463Z"
   },
   {
    "duration": 16,
    "start_time": "2022-08-08T23:51:43.481Z"
   },
   {
    "duration": 15,
    "start_time": "2022-08-08T23:52:18.937Z"
   },
   {
    "duration": 19,
    "start_time": "2022-08-08T23:52:39.958Z"
   },
   {
    "duration": 20,
    "start_time": "2022-08-08T23:52:47.616Z"
   },
   {
    "duration": 20,
    "start_time": "2022-08-08T23:53:32.641Z"
   },
   {
    "duration": 22,
    "start_time": "2022-08-08T23:55:49.929Z"
   },
   {
    "duration": 15,
    "start_time": "2022-08-08T23:56:27.166Z"
   },
   {
    "duration": 20,
    "start_time": "2022-08-08T23:56:38.395Z"
   },
   {
    "duration": 16,
    "start_time": "2022-08-08T23:57:51.907Z"
   },
   {
    "duration": 22,
    "start_time": "2022-08-08T23:59:22.046Z"
   },
   {
    "duration": 14,
    "start_time": "2022-08-09T00:00:17.901Z"
   },
   {
    "duration": 16,
    "start_time": "2022-08-09T00:01:11.463Z"
   },
   {
    "duration": 14,
    "start_time": "2022-08-09T00:01:21.068Z"
   },
   {
    "duration": 30,
    "start_time": "2022-08-09T00:07:01.795Z"
   },
   {
    "duration": 29,
    "start_time": "2022-08-09T00:07:24.044Z"
   },
   {
    "duration": 1412,
    "start_time": "2022-08-09T00:08:00.024Z"
   },
   {
    "duration": 20,
    "start_time": "2022-08-09T00:08:40.935Z"
   },
   {
    "duration": 15,
    "start_time": "2022-08-09T00:10:06.380Z"
   },
   {
    "duration": 17,
    "start_time": "2022-08-09T00:16:13.480Z"
   },
   {
    "duration": 16,
    "start_time": "2022-08-09T00:16:34.587Z"
   },
   {
    "duration": 31,
    "start_time": "2022-08-09T00:17:21.527Z"
   },
   {
    "duration": 9,
    "start_time": "2022-08-09T00:23:46.811Z"
   },
   {
    "duration": 9,
    "start_time": "2022-08-09T00:24:28.374Z"
   },
   {
    "duration": 13,
    "start_time": "2022-08-09T00:24:43.309Z"
   },
   {
    "duration": 8,
    "start_time": "2022-08-09T00:24:50.885Z"
   },
   {
    "duration": 569,
    "start_time": "2022-08-09T21:45:39.716Z"
   },
   {
    "duration": 29,
    "start_time": "2022-08-09T21:45:40.287Z"
   },
   {
    "duration": 10,
    "start_time": "2022-08-09T21:45:40.318Z"
   },
   {
    "duration": 17,
    "start_time": "2022-08-09T21:45:40.330Z"
   },
   {
    "duration": 6,
    "start_time": "2022-08-09T21:45:40.349Z"
   },
   {
    "duration": 36,
    "start_time": "2022-08-09T21:45:40.356Z"
   },
   {
    "duration": 31,
    "start_time": "2022-08-09T21:45:40.394Z"
   },
   {
    "duration": 42,
    "start_time": "2022-08-09T21:45:40.427Z"
   },
   {
    "duration": 24,
    "start_time": "2022-08-09T21:45:40.471Z"
   },
   {
    "duration": 29,
    "start_time": "2022-08-09T21:45:40.498Z"
   },
   {
    "duration": 14,
    "start_time": "2022-08-09T21:45:40.529Z"
   },
   {
    "duration": 46,
    "start_time": "2022-08-09T21:45:40.545Z"
   },
   {
    "duration": 10,
    "start_time": "2022-08-09T21:45:40.593Z"
   },
   {
    "duration": 27,
    "start_time": "2022-08-09T21:45:40.604Z"
   },
   {
    "duration": 26,
    "start_time": "2022-08-09T21:45:40.632Z"
   },
   {
    "duration": 113,
    "start_time": "2022-08-09T21:45:40.660Z"
   },
   {
    "duration": 0,
    "start_time": "2022-08-09T21:45:40.775Z"
   },
   {
    "duration": 0,
    "start_time": "2022-08-09T21:45:40.776Z"
   },
   {
    "duration": 0,
    "start_time": "2022-08-09T21:45:40.777Z"
   },
   {
    "duration": 514,
    "start_time": "2022-08-09T21:57:32.106Z"
   },
   {
    "duration": 27,
    "start_time": "2022-08-09T21:57:32.623Z"
   },
   {
    "duration": 7,
    "start_time": "2022-08-09T21:57:32.651Z"
   },
   {
    "duration": 32,
    "start_time": "2022-08-09T21:57:32.660Z"
   },
   {
    "duration": 4,
    "start_time": "2022-08-09T21:57:32.694Z"
   },
   {
    "duration": 13,
    "start_time": "2022-08-09T21:57:32.699Z"
   },
   {
    "duration": 22,
    "start_time": "2022-08-09T21:57:32.714Z"
   },
   {
    "duration": 38,
    "start_time": "2022-08-09T21:57:32.738Z"
   },
   {
    "duration": 7,
    "start_time": "2022-08-09T21:57:32.792Z"
   },
   {
    "duration": 30,
    "start_time": "2022-08-09T21:57:32.801Z"
   },
   {
    "duration": 15,
    "start_time": "2022-08-09T21:57:32.832Z"
   },
   {
    "duration": 44,
    "start_time": "2022-08-09T21:57:32.848Z"
   },
   {
    "duration": 10,
    "start_time": "2022-08-09T21:57:32.893Z"
   },
   {
    "duration": 21,
    "start_time": "2022-08-09T21:57:32.905Z"
   },
   {
    "duration": 24,
    "start_time": "2022-08-09T21:57:32.928Z"
   },
   {
    "duration": 42,
    "start_time": "2022-08-09T21:57:32.954Z"
   },
   {
    "duration": 15,
    "start_time": "2022-08-09T21:57:32.998Z"
   },
   {
    "duration": 17,
    "start_time": "2022-08-09T21:57:33.014Z"
   },
   {
    "duration": 105,
    "start_time": "2022-08-09T22:07:47.855Z"
   },
   {
    "duration": 363,
    "start_time": "2022-08-10T22:27:32.526Z"
   },
   {
    "duration": 356,
    "start_time": "2022-08-10T22:27:34.472Z"
   },
   {
    "duration": 21,
    "start_time": "2022-08-10T22:27:37.777Z"
   },
   {
    "duration": 18,
    "start_time": "2022-08-10T22:28:05.427Z"
   },
   {
    "duration": 13,
    "start_time": "2022-08-10T22:31:09.263Z"
   },
   {
    "duration": 9,
    "start_time": "2022-08-10T22:50:16.635Z"
   },
   {
    "duration": 27,
    "start_time": "2022-08-10T22:50:21.537Z"
   },
   {
    "duration": 10,
    "start_time": "2022-08-10T22:50:25.456Z"
   },
   {
    "duration": 2,
    "start_time": "2022-08-10T22:50:42.021Z"
   },
   {
    "duration": 81,
    "start_time": "2022-08-10T22:50:42.869Z"
   },
   {
    "duration": 29,
    "start_time": "2022-08-10T22:50:47.682Z"
   },
   {
    "duration": 9,
    "start_time": "2022-08-10T22:50:53.442Z"
   },
   {
    "duration": 19,
    "start_time": "2022-08-10T22:50:59.845Z"
   },
   {
    "duration": 59,
    "start_time": "2022-08-10T22:52:44.729Z"
   },
   {
    "duration": 21,
    "start_time": "2022-08-10T22:52:57.042Z"
   },
   {
    "duration": 35,
    "start_time": "2022-08-10T22:53:05.848Z"
   },
   {
    "duration": 32,
    "start_time": "2022-08-10T22:53:14.996Z"
   },
   {
    "duration": 4,
    "start_time": "2022-08-10T22:54:08.820Z"
   },
   {
    "duration": 4,
    "start_time": "2022-08-10T22:54:19.794Z"
   },
   {
    "duration": 16,
    "start_time": "2022-08-10T22:54:31.090Z"
   },
   {
    "duration": 18,
    "start_time": "2022-08-10T22:59:06.231Z"
   },
   {
    "duration": 15,
    "start_time": "2022-08-10T22:59:33.855Z"
   },
   {
    "duration": 16,
    "start_time": "2022-08-10T23:00:10.064Z"
   },
   {
    "duration": 29,
    "start_time": "2022-08-10T23:00:16.905Z"
   },
   {
    "duration": 58,
    "start_time": "2022-08-10T23:00:21.660Z"
   },
   {
    "duration": 37,
    "start_time": "2022-08-10T23:00:30.634Z"
   },
   {
    "duration": 29,
    "start_time": "2022-08-10T23:00:34.287Z"
   },
   {
    "duration": 16,
    "start_time": "2022-08-10T23:01:05.282Z"
   },
   {
    "duration": 23,
    "start_time": "2022-08-10T23:01:18.437Z"
   },
   {
    "duration": 43,
    "start_time": "2022-08-10T23:03:41.255Z"
   },
   {
    "duration": 5,
    "start_time": "2022-08-10T23:03:46.387Z"
   },
   {
    "duration": 14,
    "start_time": "2022-08-10T23:03:54.914Z"
   },
   {
    "duration": 33,
    "start_time": "2022-08-10T23:31:45.717Z"
   },
   {
    "duration": 16,
    "start_time": "2022-08-10T23:37:22.367Z"
   },
   {
    "duration": 10,
    "start_time": "2022-08-10T23:37:35.694Z"
   },
   {
    "duration": 11,
    "start_time": "2022-08-10T23:37:56.508Z"
   },
   {
    "duration": 11,
    "start_time": "2022-08-10T23:38:05.218Z"
   },
   {
    "duration": 14,
    "start_time": "2022-08-10T23:39:56.180Z"
   },
   {
    "duration": 8,
    "start_time": "2022-08-10T23:40:12.891Z"
   },
   {
    "duration": 17,
    "start_time": "2022-08-10T23:40:15.510Z"
   },
   {
    "duration": 22,
    "start_time": "2022-08-10T23:40:20.964Z"
   },
   {
    "duration": 22,
    "start_time": "2022-08-10T23:40:32.081Z"
   },
   {
    "duration": 12,
    "start_time": "2022-08-11T00:36:18.214Z"
   },
   {
    "duration": 13,
    "start_time": "2022-08-11T00:36:56.918Z"
   },
   {
    "duration": 21,
    "start_time": "2022-08-11T00:37:10.747Z"
   },
   {
    "duration": 15,
    "start_time": "2022-08-11T00:39:18.696Z"
   },
   {
    "duration": 9,
    "start_time": "2022-08-11T00:47:49.416Z"
   },
   {
    "duration": 10,
    "start_time": "2022-08-11T00:48:35.268Z"
   },
   {
    "duration": 10,
    "start_time": "2022-08-11T00:48:54.147Z"
   },
   {
    "duration": 24,
    "start_time": "2022-08-11T00:49:28.913Z"
   },
   {
    "duration": 27,
    "start_time": "2022-08-11T00:50:26.767Z"
   },
   {
    "duration": 2,
    "start_time": "2022-08-11T01:07:05.899Z"
   },
   {
    "duration": 85,
    "start_time": "2022-08-11T01:07:05.903Z"
   },
   {
    "duration": 17,
    "start_time": "2022-08-11T01:07:05.990Z"
   },
   {
    "duration": 6,
    "start_time": "2022-08-11T01:07:06.009Z"
   },
   {
    "duration": 43,
    "start_time": "2022-08-11T01:07:06.016Z"
   },
   {
    "duration": 38,
    "start_time": "2022-08-11T01:07:06.061Z"
   },
   {
    "duration": 33,
    "start_time": "2022-08-11T01:07:06.101Z"
   },
   {
    "duration": 26,
    "start_time": "2022-08-11T01:07:06.136Z"
   },
   {
    "duration": 27,
    "start_time": "2022-08-11T01:07:06.164Z"
   },
   {
    "duration": 12,
    "start_time": "2022-08-11T01:07:06.192Z"
   },
   {
    "duration": 25,
    "start_time": "2022-08-11T01:07:06.206Z"
   },
   {
    "duration": 42,
    "start_time": "2022-08-11T01:07:06.232Z"
   },
   {
    "duration": 14,
    "start_time": "2022-08-11T01:07:06.275Z"
   },
   {
    "duration": 53,
    "start_time": "2022-08-11T01:07:06.290Z"
   },
   {
    "duration": 0,
    "start_time": "2022-08-11T01:07:06.344Z"
   },
   {
    "duration": 0,
    "start_time": "2022-08-11T01:07:06.345Z"
   },
   {
    "duration": 0,
    "start_time": "2022-08-11T01:07:06.346Z"
   },
   {
    "duration": 0,
    "start_time": "2022-08-11T01:07:06.347Z"
   },
   {
    "duration": 0,
    "start_time": "2022-08-11T01:07:06.348Z"
   },
   {
    "duration": 0,
    "start_time": "2022-08-11T01:07:06.349Z"
   },
   {
    "duration": 13,
    "start_time": "2022-08-11T01:07:56.166Z"
   },
   {
    "duration": 16,
    "start_time": "2022-08-11T01:07:56.181Z"
   },
   {
    "duration": 22,
    "start_time": "2022-08-11T01:07:56.199Z"
   },
   {
    "duration": 10,
    "start_time": "2022-08-11T01:07:56.223Z"
   },
   {
    "duration": 23,
    "start_time": "2022-08-11T01:07:56.234Z"
   },
   {
    "duration": 12,
    "start_time": "2022-08-11T01:07:56.259Z"
   },
   {
    "duration": 51,
    "start_time": "2022-08-11T21:45:26.760Z"
   },
   {
    "duration": 427,
    "start_time": "2022-08-11T21:45:31.534Z"
   },
   {
    "duration": 172,
    "start_time": "2022-08-11T21:45:31.963Z"
   },
   {
    "duration": 28,
    "start_time": "2022-08-11T21:45:32.137Z"
   },
   {
    "duration": 7,
    "start_time": "2022-08-11T21:45:32.167Z"
   },
   {
    "duration": 20,
    "start_time": "2022-08-11T21:45:32.175Z"
   },
   {
    "duration": 23,
    "start_time": "2022-08-11T21:45:32.197Z"
   },
   {
    "duration": 18,
    "start_time": "2022-08-11T21:45:32.222Z"
   },
   {
    "duration": 18,
    "start_time": "2022-08-11T21:45:32.242Z"
   },
   {
    "duration": 62,
    "start_time": "2022-08-11T21:45:32.262Z"
   },
   {
    "duration": 5,
    "start_time": "2022-08-11T21:45:32.326Z"
   },
   {
    "duration": 21,
    "start_time": "2022-08-11T21:45:32.332Z"
   },
   {
    "duration": 55,
    "start_time": "2022-08-11T21:45:32.355Z"
   },
   {
    "duration": 16,
    "start_time": "2022-08-11T21:45:32.412Z"
   },
   {
    "duration": 22,
    "start_time": "2022-08-11T21:45:32.430Z"
   },
   {
    "duration": 27,
    "start_time": "2022-08-11T21:45:32.454Z"
   },
   {
    "duration": 30,
    "start_time": "2022-08-11T21:45:32.483Z"
   },
   {
    "duration": 15,
    "start_time": "2022-08-11T21:45:32.514Z"
   },
   {
    "duration": 60,
    "start_time": "2022-08-11T21:45:32.531Z"
   },
   {
    "duration": 8,
    "start_time": "2022-08-11T21:45:32.593Z"
   },
   {
    "duration": 20,
    "start_time": "2022-08-11T21:45:32.603Z"
   },
   {
    "duration": 47,
    "start_time": "2022-08-12T00:48:39.716Z"
   },
   {
    "duration": 308,
    "start_time": "2022-08-12T00:48:47.670Z"
   },
   {
    "duration": 131,
    "start_time": "2022-08-12T00:48:48.440Z"
   },
   {
    "duration": 29,
    "start_time": "2022-08-12T00:48:51.617Z"
   },
   {
    "duration": 6,
    "start_time": "2022-08-12T00:48:54.890Z"
   },
   {
    "duration": 11,
    "start_time": "2022-08-12T00:48:57.460Z"
   },
   {
    "duration": 12,
    "start_time": "2022-08-12T00:49:01.789Z"
   },
   {
    "duration": 10,
    "start_time": "2022-08-12T00:49:16.427Z"
   },
   {
    "duration": 11,
    "start_time": "2022-08-12T00:49:31.848Z"
   },
   {
    "duration": 2,
    "start_time": "2022-08-12T00:49:38.751Z"
   },
   {
    "duration": 79,
    "start_time": "2022-08-12T00:49:38.755Z"
   },
   {
    "duration": 17,
    "start_time": "2022-08-12T00:49:38.836Z"
   },
   {
    "duration": 7,
    "start_time": "2022-08-12T00:49:38.855Z"
   },
   {
    "duration": 10,
    "start_time": "2022-08-12T00:49:38.864Z"
   },
   {
    "duration": 30,
    "start_time": "2022-08-12T00:49:38.876Z"
   },
   {
    "duration": 13,
    "start_time": "2022-08-12T00:49:38.908Z"
   },
   {
    "duration": 14,
    "start_time": "2022-08-12T00:49:38.922Z"
   },
   {
    "duration": 30,
    "start_time": "2022-08-12T00:49:38.938Z"
   },
   {
    "duration": 4,
    "start_time": "2022-08-12T00:49:38.970Z"
   },
   {
    "duration": 39,
    "start_time": "2022-08-12T00:49:38.976Z"
   },
   {
    "duration": 33,
    "start_time": "2022-08-12T00:49:39.017Z"
   },
   {
    "duration": 16,
    "start_time": "2022-08-12T00:49:39.051Z"
   },
   {
    "duration": 11,
    "start_time": "2022-08-12T00:49:39.068Z"
   },
   {
    "duration": 14,
    "start_time": "2022-08-12T00:49:39.106Z"
   },
   {
    "duration": 22,
    "start_time": "2022-08-12T00:49:39.121Z"
   },
   {
    "duration": 11,
    "start_time": "2022-08-12T00:49:39.145Z"
   },
   {
    "duration": 21,
    "start_time": "2022-08-12T00:49:39.157Z"
   },
   {
    "duration": 37,
    "start_time": "2022-08-12T00:49:39.179Z"
   },
   {
    "duration": 2,
    "start_time": "2022-08-12T00:54:32.329Z"
   },
   {
    "duration": 77,
    "start_time": "2022-08-12T00:54:32.333Z"
   },
   {
    "duration": 17,
    "start_time": "2022-08-12T00:54:32.412Z"
   },
   {
    "duration": 7,
    "start_time": "2022-08-12T00:54:32.430Z"
   },
   {
    "duration": 11,
    "start_time": "2022-08-12T00:54:32.439Z"
   },
   {
    "duration": 8,
    "start_time": "2022-08-12T00:54:32.452Z"
   },
   {
    "duration": 13,
    "start_time": "2022-08-12T00:54:32.461Z"
   },
   {
    "duration": 42,
    "start_time": "2022-08-12T00:54:32.476Z"
   },
   {
    "duration": 26,
    "start_time": "2022-08-12T00:54:32.520Z"
   },
   {
    "duration": 4,
    "start_time": "2022-08-12T00:54:32.548Z"
   },
   {
    "duration": 14,
    "start_time": "2022-08-12T00:54:32.554Z"
   },
   {
    "duration": 56,
    "start_time": "2022-08-12T00:54:32.570Z"
   },
   {
    "duration": 3,
    "start_time": "2022-08-12T00:54:55.813Z"
   },
   {
    "duration": 74,
    "start_time": "2022-08-12T00:54:55.818Z"
   },
   {
    "duration": 18,
    "start_time": "2022-08-12T00:54:55.894Z"
   },
   {
    "duration": 6,
    "start_time": "2022-08-12T00:54:55.913Z"
   },
   {
    "duration": 10,
    "start_time": "2022-08-12T00:54:55.921Z"
   },
   {
    "duration": 9,
    "start_time": "2022-08-12T00:54:55.932Z"
   },
   {
    "duration": 13,
    "start_time": "2022-08-12T00:54:55.943Z"
   },
   {
    "duration": 14,
    "start_time": "2022-08-12T00:54:55.957Z"
   },
   {
    "duration": 66,
    "start_time": "2022-08-12T00:54:55.973Z"
   },
   {
    "duration": 6,
    "start_time": "2022-08-12T00:54:56.040Z"
   },
   {
    "duration": 28,
    "start_time": "2022-08-12T00:54:56.048Z"
   },
   {
    "duration": 67,
    "start_time": "2022-08-12T00:54:56.078Z"
   },
   {
    "duration": 24,
    "start_time": "2022-08-12T00:54:56.146Z"
   },
   {
    "duration": 35,
    "start_time": "2022-08-12T00:54:56.172Z"
   },
   {
    "duration": 18,
    "start_time": "2022-08-12T00:54:56.208Z"
   },
   {
    "duration": 30,
    "start_time": "2022-08-12T00:54:56.228Z"
   },
   {
    "duration": 13,
    "start_time": "2022-08-12T00:54:56.260Z"
   },
   {
    "duration": 43,
    "start_time": "2022-08-12T00:54:56.275Z"
   },
   {
    "duration": 26,
    "start_time": "2022-08-12T00:54:56.320Z"
   },
   {
    "duration": 2,
    "start_time": "2022-08-12T00:55:16.149Z"
   },
   {
    "duration": 72,
    "start_time": "2022-08-12T00:55:17.055Z"
   },
   {
    "duration": 20,
    "start_time": "2022-08-12T00:55:22.616Z"
   },
   {
    "duration": 9,
    "start_time": "2022-08-12T00:55:24.456Z"
   },
   {
    "duration": 11,
    "start_time": "2022-08-12T00:55:26.675Z"
   },
   {
    "duration": 10,
    "start_time": "2022-08-12T00:55:30.784Z"
   },
   {
    "duration": 16,
    "start_time": "2022-08-12T00:55:34.560Z"
   },
   {
    "duration": 17,
    "start_time": "2022-08-12T00:55:36.951Z"
   },
   {
    "duration": 31,
    "start_time": "2022-08-12T00:55:39.633Z"
   },
   {
    "duration": 5,
    "start_time": "2022-08-12T00:55:42.614Z"
   },
   {
    "duration": 13,
    "start_time": "2022-08-12T00:55:44.824Z"
   },
   {
    "duration": 31,
    "start_time": "2022-08-12T00:55:46.977Z"
   },
   {
    "duration": 17,
    "start_time": "2022-08-12T00:55:56.449Z"
   },
   {
    "duration": 18,
    "start_time": "2022-08-12T00:56:16.210Z"
   },
   {
    "duration": 12,
    "start_time": "2022-08-12T00:56:18.130Z"
   },
   {
    "duration": 19,
    "start_time": "2022-08-12T00:56:20.109Z"
   },
   {
    "duration": 12,
    "start_time": "2022-08-12T00:56:33.122Z"
   },
   {
    "duration": 26,
    "start_time": "2022-08-12T00:57:52.175Z"
   },
   {
    "duration": 27,
    "start_time": "2022-08-12T00:58:01.505Z"
   },
   {
    "duration": 38,
    "start_time": "2022-08-12T00:58:41.580Z"
   },
   {
    "duration": 38,
    "start_time": "2022-08-12T00:59:03.522Z"
   },
   {
    "duration": 29,
    "start_time": "2022-08-12T00:59:16.964Z"
   },
   {
    "duration": 39,
    "start_time": "2022-08-12T01:22:56.176Z"
   },
   {
    "duration": 374,
    "start_time": "2022-08-12T18:00:13.226Z"
   },
   {
    "duration": 324,
    "start_time": "2022-08-12T18:00:13.602Z"
   },
   {
    "duration": 26,
    "start_time": "2022-08-12T18:00:13.928Z"
   },
   {
    "duration": 7,
    "start_time": "2022-08-12T18:00:13.956Z"
   },
   {
    "duration": 20,
    "start_time": "2022-08-12T18:00:13.965Z"
   },
   {
    "duration": 16,
    "start_time": "2022-08-12T18:00:13.987Z"
   },
   {
    "duration": 15,
    "start_time": "2022-08-12T18:00:14.004Z"
   },
   {
    "duration": 14,
    "start_time": "2022-08-12T18:00:14.020Z"
   },
   {
    "duration": 28,
    "start_time": "2022-08-12T18:00:14.036Z"
   },
   {
    "duration": 4,
    "start_time": "2022-08-12T18:00:14.066Z"
   },
   {
    "duration": 39,
    "start_time": "2022-08-12T18:00:14.072Z"
   },
   {
    "duration": 31,
    "start_time": "2022-08-12T18:00:14.112Z"
   },
   {
    "duration": 16,
    "start_time": "2022-08-12T18:00:14.145Z"
   },
   {
    "duration": 38,
    "start_time": "2022-08-12T18:00:14.163Z"
   },
   {
    "duration": 35,
    "start_time": "2022-08-12T18:00:14.202Z"
   },
   {
    "duration": 34,
    "start_time": "2022-08-12T18:00:14.238Z"
   },
   {
    "duration": 14,
    "start_time": "2022-08-12T18:00:14.274Z"
   },
   {
    "duration": 52,
    "start_time": "2022-08-12T18:00:14.290Z"
   },
   {
    "duration": 22,
    "start_time": "2022-08-12T18:00:14.343Z"
   },
   {
    "duration": 5,
    "start_time": "2022-08-12T18:00:35.068Z"
   },
   {
    "duration": 90,
    "start_time": "2022-08-12T18:08:53.170Z"
   },
   {
    "duration": 47,
    "start_time": "2022-08-12T19:39:41.258Z"
   },
   {
    "duration": 444,
    "start_time": "2022-08-12T19:39:46.650Z"
   },
   {
    "duration": 328,
    "start_time": "2022-08-12T19:39:47.096Z"
   },
   {
    "duration": 25,
    "start_time": "2022-08-12T19:39:47.425Z"
   },
   {
    "duration": 7,
    "start_time": "2022-08-12T19:39:47.452Z"
   },
   {
    "duration": 12,
    "start_time": "2022-08-12T19:39:47.460Z"
   },
   {
    "duration": 9,
    "start_time": "2022-08-12T19:39:47.474Z"
   },
   {
    "duration": 15,
    "start_time": "2022-08-12T19:39:47.485Z"
   },
   {
    "duration": 15,
    "start_time": "2022-08-12T19:39:47.501Z"
   },
   {
    "duration": 64,
    "start_time": "2022-08-12T19:39:47.518Z"
   },
   {
    "duration": 5,
    "start_time": "2022-08-12T19:39:47.584Z"
   },
   {
    "duration": 17,
    "start_time": "2022-08-12T19:39:47.590Z"
   },
   {
    "duration": 50,
    "start_time": "2022-08-12T19:39:47.608Z"
   },
   {
    "duration": 17,
    "start_time": "2022-08-12T19:39:47.660Z"
   },
   {
    "duration": 11,
    "start_time": "2022-08-12T19:39:47.679Z"
   },
   {
    "duration": 19,
    "start_time": "2022-08-12T19:39:47.692Z"
   },
   {
    "duration": 45,
    "start_time": "2022-08-12T19:39:47.713Z"
   },
   {
    "duration": 13,
    "start_time": "2022-08-12T19:39:47.759Z"
   },
   {
    "duration": 27,
    "start_time": "2022-08-12T19:39:47.774Z"
   },
   {
    "duration": 0,
    "start_time": "2022-08-12T19:39:47.803Z"
   },
   {
    "duration": 11,
    "start_time": "2022-08-12T19:40:58.623Z"
   },
   {
    "duration": 22,
    "start_time": "2022-08-12T19:41:16.729Z"
   },
   {
    "duration": 2909,
    "start_time": "2022-08-12T19:43:17.114Z"
   },
   {
    "duration": 3294,
    "start_time": "2022-08-12T19:44:18.769Z"
   },
   {
    "duration": 2559,
    "start_time": "2022-08-12T19:44:23.157Z"
   },
   {
    "duration": 22,
    "start_time": "2022-08-12T19:50:05.895Z"
   },
   {
    "duration": 32,
    "start_time": "2022-08-12T20:05:15.238Z"
   }
  ],
  "kernelspec": {
   "display_name": "Python 3",
   "language": "python",
   "name": "python3"
  },
  "language_info": {
   "codemirror_mode": {
    "name": "ipython",
    "version": 3
   },
   "file_extension": ".py",
   "mimetype": "text/x-python",
   "name": "python",
   "nbconvert_exporter": "python",
   "pygments_lexer": "ipython3",
   "version": "3.8.3"
  },
  "toc": {
   "base_numbering": 1,
   "nav_menu": {},
   "number_sections": true,
   "sideBar": true,
   "skip_h1_title": true,
   "title_cell": "Table of Contents",
   "title_sidebar": "Contents",
   "toc_cell": false,
   "toc_position": {},
   "toc_section_display": true,
   "toc_window_display": false
  }
 },
 "nbformat": 4,
 "nbformat_minor": 5
}
